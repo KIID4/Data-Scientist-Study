{
 "cells": [
  {
   "cell_type": "code",
   "execution_count": 3,
   "id": "aac32c18",
   "metadata": {},
   "outputs": [],
   "source": [
    "import os\n",
    "import pandas as pd\n",
    "import numpy as np\n",
    "import matplotlib.pyplot as plt\n",
    "from tqdm import tqdm\n",
    "import warnings\n",
    "warnings.filterwarnings('ignore')"
   ]
  },
  {
   "cell_type": "code",
   "execution_count": 4,
   "id": "d5065c2c",
   "metadata": {},
   "outputs": [
    {
     "data": {
      "text/plain": [
       "<AxesSubplot:xlabel='time'>"
      ]
     },
     "execution_count": 4,
     "metadata": {},
     "output_type": "execute_result"
    },
    {
     "data": {
      "image/png": "[encoded data removed]",
      "text/plain": [
       "<Figure size 432x288 with 1 Axes>"
      ]
     },
     "metadata": {
      "needs_background": "light"
     },
     "output_type": "display_data"
    }
   ],
   "source": [
    "# 데이터 경로\n",
    "DATA_PATH = '/aiffel/aiffel/fnguide/data/'\n",
    "\n",
    "# 데이터 불러오기\n",
    "modify_data = pd.read_csv(os.path.join(DATA_PATH, 'sub_upbit_eth_min_tick.csv'), index_col=0, parse_dates=True)\n",
    "\n",
    "# 불러온 데이터 시각화하기\n",
    "modify_data.loc['2017-11-01':'2017-12-31','close'].plot()"
   ]
  },
  {
   "cell_type": "code",
   "execution_count": 5,
   "id": "0fa6dac9",
   "metadata": {},
   "outputs": [
    {
     "data": {
      "text/html": [
       "<div>\n",
       "<style scoped>\n",
       "    .dataframe tbody tr th:only-of-type {\n",
       "        vertical-align: middle;\n",
       "    }\n",
       "\n",
       "    .dataframe tbody tr th {\n",
       "        vertical-align: top;\n",
       "    }\n",
       "\n",
       "    .dataframe thead th {\n",
       "        text-align: right;\n",
       "    }\n",
       "</style>\n",
       "<table border=\"1\" class=\"dataframe\">\n",
       "  <thead>\n",
       "    <tr style=\"text-align: right;\">\n",
       "      <th></th>\n",
       "      <th>open</th>\n",
       "      <th>high</th>\n",
       "      <th>low</th>\n",
       "      <th>close</th>\n",
       "      <th>volume</th>\n",
       "    </tr>\n",
       "    <tr>\n",
       "      <th>time</th>\n",
       "      <th></th>\n",
       "      <th></th>\n",
       "      <th></th>\n",
       "      <th></th>\n",
       "      <th></th>\n",
       "    </tr>\n",
       "  </thead>\n",
       "  <tbody>\n",
       "    <tr>\n",
       "      <th>2017-09-25 03:00:00</th>\n",
       "      <td>324500</td>\n",
       "      <td>325500</td>\n",
       "      <td>322000</td>\n",
       "      <td>324000</td>\n",
       "      <td>52.477251</td>\n",
       "    </tr>\n",
       "    <tr>\n",
       "      <th>2017-09-25 03:01:00</th>\n",
       "      <td>324000</td>\n",
       "      <td>324000</td>\n",
       "      <td>322500</td>\n",
       "      <td>324000</td>\n",
       "      <td>39.061889</td>\n",
       "    </tr>\n",
       "    <tr>\n",
       "      <th>2017-09-25 03:02:00</th>\n",
       "      <td>322500</td>\n",
       "      <td>324500</td>\n",
       "      <td>322500</td>\n",
       "      <td>324500</td>\n",
       "      <td>12.794000</td>\n",
       "    </tr>\n",
       "    <tr>\n",
       "      <th>2017-09-25 03:05:00</th>\n",
       "      <td>324000</td>\n",
       "      <td>324000</td>\n",
       "      <td>323000</td>\n",
       "      <td>324000</td>\n",
       "      <td>33.365246</td>\n",
       "    </tr>\n",
       "    <tr>\n",
       "      <th>2017-09-25 03:06:00</th>\n",
       "      <td>324000</td>\n",
       "      <td>325000</td>\n",
       "      <td>322500</td>\n",
       "      <td>324000</td>\n",
       "      <td>46.224544</td>\n",
       "    </tr>\n",
       "  </tbody>\n",
       "</table>\n",
       "</div>"
      ],
      "text/plain": [
       "                       open    high     low   close     volume\n",
       "time                                                          \n",
       "2017-09-25 03:00:00  324500  325500  322000  324000  52.477251\n",
       "2017-09-25 03:01:00  324000  324000  322500  324000  39.061889\n",
       "2017-09-25 03:02:00  322500  324500  322500  324500  12.794000\n",
       "2017-09-25 03:05:00  324000  324000  323000  324000  33.365246\n",
       "2017-09-25 03:06:00  324000  325000  322500  324000  46.224544"
      ]
     },
     "execution_count": 5,
     "metadata": {},
     "output_type": "execute_result"
    }
   ],
   "source": [
    "modify_data.head()"
   ]
  },
  {
   "cell_type": "markdown",
   "id": "941e956d",
   "metadata": {},
   "source": [
    "# Price Change Direction\n",
    "### 기존 가격 - 과거 가격\n",
    "### -1  = 하락 / 0 = 유지 / 1 = 상승\n",
    "### sign 함수 : 값의 부호를 반환함"
   ]
  },
  {
   "cell_type": "code",
   "execution_count": 6,
   "id": "bae56274",
   "metadata": {},
   "outputs": [],
   "source": [
    "# window 지정(10일 이전의 주가를 이용)\n",
    "window = 10\n",
    "\n",
    "# momentum_signal 만들기\n",
    "momentum_signal = np.sign(np.sign(modify_data['close'] - modify_data['close'].shift(window)) + 1) # modify_data['close'].shift(window)활용\n",
    "\n",
    "# s_momentum_signal 만들기\n",
    "s_momentum_signal = pd.Series(momentum_signal, index = modify_data.index) # 데이터 활용을 위해 pd.Series를 사용합니다."
   ]
  },
  {
   "cell_type": "code",
   "execution_count": 7,
   "id": "7ba13311",
   "metadata": {},
   "outputs": [
    {
     "data": {
      "text/plain": [
       "<matplotlib.collections.PathCollection at 0x7aa72f0995b0>"
      ]
     },
     "execution_count": 7,
     "metadata": {},
     "output_type": "execute_result"
    },
    {
     "data": {
      "image/png": "[encoded data removed]",
      "text/plain": [
       "<Figure size 720x360 with 1 Axes>"
      ]
     },
     "metadata": {
      "needs_background": "light"
     },
     "output_type": "display_data"
    }
   ],
   "source": [
    "# 기존 데이터 만들기\n",
    "sub_data = modify_data.loc['2017-11-21','close'] # loc를 활용하여 2017-11-21부터 close(종가)까지 가져오기\n",
    "\n",
    "# 수식 적용된 데이터 만들기\n",
    "c_sig = s_momentum_signal.loc['2017-11-21'] # loc를 활용하여 2017-11-21의 시간대별 값을 가져오기\n",
    "\n",
    "c_sig['color'] = np.where(c_sig == 1, 'red', 'blue')\n",
    "\n",
    "plt.figure(figsize=(10,5))\n",
    "plt.scatter(sub_data.index, sub_data, c=c_sig['color'])"
   ]
  },
  {
   "cell_type": "markdown",
   "id": "9bc9926e",
   "metadata": {},
   "source": [
    "# Using Moving Average \n",
    "### 이동 평균선을 기준으로 주가에 따른 0, 1"
   ]
  },
  {
   "cell_type": "code",
   "execution_count": 8,
   "id": "f3ffb95e",
   "metadata": {},
   "outputs": [],
   "source": [
    "# momentum_signal \n",
    "momentum_signal = np.sign(np.sign(modify_data['close'] - modify_data['close'].rolling(window).mean()) + 1) # modify_data['close'].rolling(window).mean() 활용\n",
    "\n",
    "# s_momentum_signal\n",
    "s_momentum_signal = pd.Series(momentum_signal, index=modify_data.index) # pd.Series로 변환"
   ]
  },
  {
   "cell_type": "code",
   "execution_count": 9,
   "id": "8b0851b0",
   "metadata": {},
   "outputs": [
    {
     "data": {
      "text/plain": [
       "<matplotlib.collections.PathCollection at 0x7aa72f037a00>"
      ]
     },
     "execution_count": 9,
     "metadata": {},
     "output_type": "execute_result"
    },
    {
     "data": {
      "image/png": "[encoded data removed]",
      "text/plain": [
       "<Figure size 720x360 with 1 Axes>"
      ]
     },
     "metadata": {
      "needs_background": "light"
     },
     "output_type": "display_data"
    }
   ],
   "source": [
    "sub_data = modify_data.loc['2017-11-21', 'close']\n",
    "c_sig = s_momentum_signal.loc['2017-11-21']\n",
    "c_sig['color'] = np.where(c_sig == 1, 'red', 'blue')\n",
    "\n",
    "plt.figure(figsize=(10,5))\n",
    "plt.scatter(sub_data.index, sub_data, c=c_sig['color'])"
   ]
  },
  {
   "cell_type": "markdown",
   "id": "14482553",
   "metadata": {},
   "source": [
    "# Local Min-Max\n",
    "### 특정 구간에서의 최소, 최대값을 갱신하며 Label"
   ]
  },
  {
   "cell_type": "code",
   "execution_count": 10,
   "id": "fcb7b9b7",
   "metadata": {},
   "outputs": [],
   "source": [
    "def get_local_min_max(close, wait):\n",
    "    min_value = close.iloc[0]\n",
    "    max_value = close.iloc[0] # ①\n",
    "    n_cnt_min, n_cnt_max = 0, 0\n",
    "    \n",
    "    mins, maxes = [], []\n",
    "    min_idxes, max_idxes = [], []\n",
    "    b_min_update, b_max_update = False, False\n",
    "    \n",
    "    for idx, val in zip(close.index[1:], close.values[1:]):\n",
    "        if val < min_value:\n",
    "            min_value = val\n",
    "            mins.append(min_value)\n",
    "            min_idxes.append(idx)\n",
    "            n_cnt_min = 0\n",
    "            b_min_update = True\n",
    "        if val > max_value:\n",
    "            max_value = val # ②\n",
    "            maxes.append(max_value)  # ③\n",
    "            max_idxes.append(idx)\n",
    "            n_cnt_max = 0\n",
    "            b_max_update = True # ④\n",
    "        \n",
    "        if not b_max_update:\n",
    "            b_min_update = False\n",
    "            n_cnt_min += 1\n",
    "            if n_cnt_min >= wait:\n",
    "                max_value = min_value\n",
    "                n_cnt_min = 0\n",
    "    \n",
    "        if not b_min_update:\n",
    "            b_max_update = False # ⑤\n",
    "            n_cnt_max += 1# ⑥\n",
    "            if n_cnt_max >= wait:\n",
    "                min_value = max_value # ⑦\n",
    "                n_cnt_max = 0\n",
    "               \n",
    "    return pd.DataFrame.from_dict({'min_time': min_idxes, 'local_min': mins}), pd.DataFrame.from_dict({'max_time': max_idxes, 'local_max': maxes}) # ⑧"
   ]
  },
  {
   "cell_type": "code",
   "execution_count": 11,
   "id": "a13189e5",
   "metadata": {},
   "outputs": [
    {
     "name": "stdout",
     "output_type": "stream",
     "text": [
      "               min_time  local_min\n",
      "0   2017-11-21 00:01:00     399050\n",
      "1   2017-11-21 00:03:00     399000\n",
      "2   2017-11-21 00:04:00     398900\n",
      "3   2017-11-21 00:05:00     398850\n",
      "4   2017-11-21 00:06:00     398800\n",
      "..                  ...        ...\n",
      "472 2017-11-21 23:48:00     397850\n",
      "473 2017-11-21 23:50:00     397050\n",
      "474 2017-11-21 23:52:00     396750\n",
      "475 2017-11-21 23:53:00     396350\n",
      "476 2017-11-21 23:59:00     397600\n",
      "\n",
      "[477 rows x 2 columns]\n",
      "----------------------------------------\n",
      "               max_time  local_max\n",
      "0   2017-11-21 00:13:00     399500\n",
      "1   2017-11-21 00:14:00     399900\n",
      "2   2017-11-21 00:16:00     401450\n",
      "3   2017-11-21 00:19:00     401350\n",
      "4   2017-11-21 00:20:00     401500\n",
      "..                  ...        ...\n",
      "268 2017-11-21 23:41:00     398050\n",
      "269 2017-11-21 23:43:00     398400\n",
      "270 2017-11-21 23:46:00     398200\n",
      "271 2017-11-21 23:47:00     398400\n",
      "272 2017-11-21 23:56:00     398050\n",
      "\n",
      "[273 rows x 2 columns]\n"
     ]
    }
   ],
   "source": [
    "# Local mins, maxes를 확인\n",
    "mins, maxes = get_local_min_max(sub_data, wait=3)\n",
    "\n",
    "# mins, maxes 확인 \n",
    "print(mins)\n",
    "print('--'*20)\n",
    "print(maxes)"
   ]
  },
  {
   "cell_type": "code",
   "execution_count": 14,
   "id": "c8e10f10",
   "metadata": {},
   "outputs": [
    {
     "data": {
      "text/plain": [
       "(376546.5, 412585.0)"
      ]
     },
     "execution_count": 14,
     "metadata": {},
     "output_type": "execute_result"
    },
    {
     "data": {
      "image/png": "[encoded data removed]",
      "text/plain": [
       "<Figure size 720x360 with 1 Axes>"
      ]
     },
     "metadata": {
      "needs_background": "light"
     },
     "output_type": "display_data"
    }
   ],
   "source": [
    "fig, ax = plt.subplots(1, 1, figsize = (10, 5))\n",
    "\n",
    "ax.plot(sub_data, 'c')\n",
    "\n",
    "ax.scatter(mins.min_time, mins.local_min, c='blue')\n",
    "\n",
    "ax.scatter(maxes.max_time, maxes.local_max, c='red')\n",
    "\n",
    "ax.set_ylim([sub_data.min() * 0.99, sub_data.max()  * 1.01])"
   ]
  },
  {
   "cell_type": "markdown",
   "id": "96ad56bf",
   "metadata": {},
   "source": [
    "# Trend Scanning\n",
    "#### t 시점에서 t + a까지 시점까지의 회귀식을 Fitting하여 𝛽(기울기) 값을 구한 이후 t-value를 계산\n",
    "#### t-value가 양수면 t + a시점에는 상승할 가능성이 존재하며 음수일 경우 하락할 가능성이 존재"
   ]
  },
  {
   "cell_type": "code",
   "execution_count": 12,
   "id": "24ada64c",
   "metadata": {},
   "outputs": [],
   "source": [
    "def t_val_lin_r(close):\n",
    "    import statsmodels.api as sml\n",
    "    \n",
    "    x = np.ones((close.shape[0], 2))\n",
    "    x[:, 1] = np.arange(close.shape[0])\n",
    "    ols = sml.OLS(close, x).fit() \n",
    "    return ols.tvalues[1]"
   ]
  },
  {
   "cell_type": "code",
   "execution_count": 13,
   "id": "1e2880b5",
   "metadata": {},
   "outputs": [],
   "source": [
    "look_forward_window = 60\n",
    "min_sample_length = 5\n",
    "step = 1\n",
    "t1_array = []\n",
    "t_values_array = []"
   ]
  },
  {
   "cell_type": "code",
   "execution_count": 14,
   "id": "da78a6bf",
   "metadata": {},
   "outputs": [
    {
     "data": {
      "text/html": [
       "<div>\n",
       "<style scoped>\n",
       "    .dataframe tbody tr th:only-of-type {\n",
       "        vertical-align: middle;\n",
       "    }\n",
       "\n",
       "    .dataframe tbody tr th {\n",
       "        vertical-align: top;\n",
       "    }\n",
       "\n",
       "    .dataframe thead th {\n",
       "        text-align: right;\n",
       "    }\n",
       "</style>\n",
       "<table border=\"1\" class=\"dataframe\">\n",
       "  <thead>\n",
       "    <tr style=\"text-align: right;\">\n",
       "      <th></th>\n",
       "      <th>open</th>\n",
       "      <th>high</th>\n",
       "      <th>low</th>\n",
       "      <th>close</th>\n",
       "      <th>volume</th>\n",
       "    </tr>\n",
       "    <tr>\n",
       "      <th>time</th>\n",
       "      <th></th>\n",
       "      <th></th>\n",
       "      <th></th>\n",
       "      <th></th>\n",
       "      <th></th>\n",
       "    </tr>\n",
       "  </thead>\n",
       "  <tbody>\n",
       "    <tr>\n",
       "      <th>2017-09-25 03:00:00</th>\n",
       "      <td>324500</td>\n",
       "      <td>325500</td>\n",
       "      <td>322000</td>\n",
       "      <td>324000</td>\n",
       "      <td>52.477251</td>\n",
       "    </tr>\n",
       "    <tr>\n",
       "      <th>2017-09-25 03:01:00</th>\n",
       "      <td>324000</td>\n",
       "      <td>324000</td>\n",
       "      <td>322500</td>\n",
       "      <td>324000</td>\n",
       "      <td>39.061889</td>\n",
       "    </tr>\n",
       "    <tr>\n",
       "      <th>2017-09-25 03:02:00</th>\n",
       "      <td>322500</td>\n",
       "      <td>324500</td>\n",
       "      <td>322500</td>\n",
       "      <td>324500</td>\n",
       "      <td>12.794000</td>\n",
       "    </tr>\n",
       "    <tr>\n",
       "      <th>2017-09-25 03:05:00</th>\n",
       "      <td>324000</td>\n",
       "      <td>324000</td>\n",
       "      <td>323000</td>\n",
       "      <td>324000</td>\n",
       "      <td>33.365246</td>\n",
       "    </tr>\n",
       "    <tr>\n",
       "      <th>2017-09-25 03:06:00</th>\n",
       "      <td>324000</td>\n",
       "      <td>325000</td>\n",
       "      <td>322500</td>\n",
       "      <td>324000</td>\n",
       "      <td>46.224544</td>\n",
       "    </tr>\n",
       "    <tr>\n",
       "      <th>...</th>\n",
       "      <td>...</td>\n",
       "      <td>...</td>\n",
       "      <td>...</td>\n",
       "      <td>...</td>\n",
       "      <td>...</td>\n",
       "    </tr>\n",
       "    <tr>\n",
       "      <th>2019-11-03 10:29:00</th>\n",
       "      <td>212650</td>\n",
       "      <td>212800</td>\n",
       "      <td>212600</td>\n",
       "      <td>212800</td>\n",
       "      <td>30.996276</td>\n",
       "    </tr>\n",
       "    <tr>\n",
       "      <th>2019-11-03 10:30:00</th>\n",
       "      <td>212800</td>\n",
       "      <td>212800</td>\n",
       "      <td>212600</td>\n",
       "      <td>212600</td>\n",
       "      <td>3.224132</td>\n",
       "    </tr>\n",
       "    <tr>\n",
       "      <th>2019-11-03 10:31:00</th>\n",
       "      <td>212600</td>\n",
       "      <td>212600</td>\n",
       "      <td>212400</td>\n",
       "      <td>212400</td>\n",
       "      <td>135.351681</td>\n",
       "    </tr>\n",
       "    <tr>\n",
       "      <th>2019-11-03 10:32:00</th>\n",
       "      <td>212400</td>\n",
       "      <td>212500</td>\n",
       "      <td>212150</td>\n",
       "      <td>212500</td>\n",
       "      <td>329.331920</td>\n",
       "    </tr>\n",
       "    <tr>\n",
       "      <th>2019-11-03 10:33:00</th>\n",
       "      <td>212400</td>\n",
       "      <td>212500</td>\n",
       "      <td>212200</td>\n",
       "      <td>212350</td>\n",
       "      <td>141.525940</td>\n",
       "    </tr>\n",
       "  </tbody>\n",
       "</table>\n",
       "<p>1000000 rows × 5 columns</p>\n",
       "</div>"
      ],
      "text/plain": [
       "                       open    high     low   close      volume\n",
       "time                                                           \n",
       "2017-09-25 03:00:00  324500  325500  322000  324000   52.477251\n",
       "2017-09-25 03:01:00  324000  324000  322500  324000   39.061889\n",
       "2017-09-25 03:02:00  322500  324500  322500  324500   12.794000\n",
       "2017-09-25 03:05:00  324000  324000  323000  324000   33.365246\n",
       "2017-09-25 03:06:00  324000  325000  322500  324000   46.224544\n",
       "...                     ...     ...     ...     ...         ...\n",
       "2019-11-03 10:29:00  212650  212800  212600  212800   30.996276\n",
       "2019-11-03 10:30:00  212800  212800  212600  212600    3.224132\n",
       "2019-11-03 10:31:00  212600  212600  212400  212400  135.351681\n",
       "2019-11-03 10:32:00  212400  212500  212150  212500  329.331920\n",
       "2019-11-03 10:33:00  212400  212500  212200  212350  141.525940\n",
       "\n",
       "[1000000 rows x 5 columns]"
      ]
     },
     "execution_count": 14,
     "metadata": {},
     "output_type": "execute_result"
    }
   ],
   "source": [
    "modify_data"
   ]
  },
  {
   "cell_type": "code",
   "execution_count": 15,
   "id": "85d25ab0",
   "metadata": {},
   "outputs": [
    {
     "name": "stderr",
     "output_type": "stream",
     "text": [
      "100%|██████████| 33384/33384 [13:46<00:00, 40.41it/s]\n"
     ]
    }
   ],
   "source": [
    "molecule = modify_data['2017-11-01':'2017-11-30'].index\n",
    "label = pd.DataFrame(index=molecule, columns=['t1', 't_val', 'bin'])\n",
    "tmp_out = []\n",
    "\n",
    "for ind in tqdm(molecule):\n",
    "    subset = modify_data.loc[ind:, 'close'].iloc[:look_forward_window]  # 전방 탐색을 위한 샘플 추출\n",
    "    if look_forward_window > subset.shape[0]:\n",
    "        continue\n",
    "    \n",
    "    tmp_subset = pd.Series(index=subset.index[min_sample_length-1:subset.shape[0]-1])\n",
    "    tval = []\n",
    "\n",
    "    # 회귀분석을 통해 t 통계량값을 이용하여 추세 추정\n",
    "    for forward_window in np.arange(min_sample_length, subset.shape[0]):\n",
    "        df = subset.iloc[:forward_window]\n",
    "        tval.append(t_val_lin_r(df.values))  # t-value 사용\n",
    "    \n",
    "    tmp_subset.loc[tmp_subset.index] = np.array(tval)\n",
    "    idx_max = tmp_subset.replace([-np.inf, np.inf, np.nan], 0).abs().idxmax()\n",
    "    tmp_t_val = tmp_subset[idx_max]\n",
    "    tmp_out.append([tmp_subset.index[-1], tmp_t_val, np.sign(tmp_t_val)])\n",
    "\n",
    "label.loc[molecule] = np.array(tmp_out)  # prevent leakage\n",
    "\n",
    "label['t1'] = pd.to_datetime(label['t1'])\n",
    "label['bin'] = pd.to_numeric(label['bin'], downcast='signed')"
   ]
  },
  {
   "cell_type": "code",
   "execution_count": 16,
   "id": "22765e46",
   "metadata": {},
   "outputs": [
    {
     "data": {
      "text/plain": [
       "<matplotlib.collections.PathCollection at 0x7aa72efdfe50>"
      ]
     },
     "execution_count": 16,
     "metadata": {},
     "output_type": "execute_result"
    },
    {
     "data": {
      "image/png": "[encoded data removed]",
      "text/plain": [
       "<Figure size 720x360 with 1 Axes>"
      ]
     },
     "metadata": {
      "needs_background": "light"
     },
     "output_type": "display_data"
    }
   ],
   "source": [
    "# 시각화\n",
    "sub_data = modify_data.loc['2017-11-21', 'close']\n",
    "c_sig = label['bin'].loc['2017-11-21']\n",
    "c_sig['color'] = np.where(c_sig == 1, 'red', 'blue')\n",
    "\n",
    "fig, ax = plt.subplots(1, 1, figsize=(10, 5))\n",
    "ax.scatter(sub_data.index, sub_data.values, c=c_sig['color'])"
   ]
  },
  {
   "cell_type": "markdown",
   "id": "bf9eaf1e",
   "metadata": {},
   "source": [
    "----\n",
    "\n",
    "# Feature Engineering"
   ]
  },
  {
   "cell_type": "code",
   "execution_count": 17,
   "id": "8aa1c156",
   "metadata": {},
   "outputs": [
    {
     "name": "stdout",
     "output_type": "stream",
     "text": [
      "Collecting ta==0.9.0\n",
      "  Using cached ta-0.9.0.tar.gz (25 kB)\n",
      "  Preparing metadata (setup.py) ... \u001b[?25ldone\n",
      "\u001b[?25hRequirement already satisfied: numpy in /opt/conda/lib/python3.9/site-packages (from ta==0.9.0) (1.21.4)\n",
      "Requirement already satisfied: pandas in /opt/conda/lib/python3.9/site-packages (from ta==0.9.0) (1.3.3)\n",
      "Requirement already satisfied: python-dateutil>=2.7.3 in /opt/conda/lib/python3.9/site-packages (from pandas->ta==0.9.0) (2.8.2)\n",
      "Requirement already satisfied: pytz>=2017.3 in /opt/conda/lib/python3.9/site-packages (from pandas->ta==0.9.0) (2021.3)\n",
      "Requirement already satisfied: six>=1.5 in /opt/conda/lib/python3.9/site-packages (from python-dateutil>=2.7.3->pandas->ta==0.9.0) (1.16.0)\n",
      "Building wheels for collected packages: ta\n",
      "  Building wheel for ta (setup.py) ... \u001b[?25ldone\n",
      "\u001b[?25h  Created wheel for ta: filename=ta-0.9.0-py3-none-any.whl size=28907 sha256=fd88e411ab94c4fbf098cc2f9596a1d23e7946ad042b62851fdc0f7714d004fd\n",
      "  Stored in directory: /aiffel/.cache/pip/wheels/d1/3c/c4/176cfd752bd625c697799269715459e85c6dfd9500df26ad93\n",
      "Successfully built ta\n",
      "Installing collected packages: ta\n",
      "Successfully installed ta-0.9.0\n",
      "\u001b[33mWARNING: Running pip as the 'root' user can result in broken permissions and conflicting behaviour with the system package manager. It is recommended to use a virtual environment instead: https://pip.pypa.io/warnings/venv\u001b[0m\n",
      "Collecting shap\n",
      "  Downloading shap-0.46.0-cp39-cp39-manylinux_2_12_x86_64.manylinux2010_x86_64.manylinux_2_17_x86_64.manylinux2014_x86_64.whl (539 kB)\n",
      "     |████████████████████████████████| 539 kB 4.5 MB/s            \n",
      "\u001b[?25hRequirement already satisfied: numpy in /opt/conda/lib/python3.9/site-packages (from shap) (1.21.4)\n",
      "Collecting slicer==0.0.8\n",
      "  Downloading slicer-0.0.8-py3-none-any.whl (15 kB)\n",
      "Requirement already satisfied: scikit-learn in /opt/conda/lib/python3.9/site-packages (from shap) (1.0)\n",
      "Requirement already satisfied: numba in /opt/conda/lib/python3.9/site-packages (from shap) (0.53.1)\n",
      "Requirement already satisfied: packaging>20.9 in /opt/conda/lib/python3.9/site-packages (from shap) (21.3)\n",
      "Requirement already satisfied: pandas in /opt/conda/lib/python3.9/site-packages (from shap) (1.3.3)\n",
      "Requirement already satisfied: cloudpickle in /opt/conda/lib/python3.9/site-packages (from shap) (2.0.0)\n",
      "Requirement already satisfied: scipy in /opt/conda/lib/python3.9/site-packages (from shap) (1.7.1)\n",
      "Requirement already satisfied: tqdm>=4.27.0 in /opt/conda/lib/python3.9/site-packages (from shap) (4.62.3)\n",
      "Requirement already satisfied: pyparsing!=3.0.5,>=2.0.2 in /opt/conda/lib/python3.9/site-packages (from packaging>20.9->shap) (3.0.6)\n",
      "Requirement already satisfied: llvmlite<0.37,>=0.36.0rc1 in /opt/conda/lib/python3.9/site-packages (from numba->shap) (0.36.0)\n",
      "Requirement already satisfied: setuptools in /opt/conda/lib/python3.9/site-packages (from numba->shap) (59.4.0)\n",
      "Requirement already satisfied: pytz>=2017.3 in /opt/conda/lib/python3.9/site-packages (from pandas->shap) (2021.3)\n",
      "Requirement already satisfied: python-dateutil>=2.7.3 in /opt/conda/lib/python3.9/site-packages (from pandas->shap) (2.8.2)\n",
      "Requirement already satisfied: threadpoolctl>=2.0.0 in /opt/conda/lib/python3.9/site-packages (from scikit-learn->shap) (3.0.0)\n",
      "Requirement already satisfied: joblib>=0.11 in /opt/conda/lib/python3.9/site-packages (from scikit-learn->shap) (1.1.0)\n",
      "Requirement already satisfied: six>=1.5 in /opt/conda/lib/python3.9/site-packages (from python-dateutil>=2.7.3->pandas->shap) (1.16.0)\n",
      "Installing collected packages: slicer, shap\n",
      "Successfully installed shap-0.46.0 slicer-0.0.8\n",
      "\u001b[33mWARNING: Running pip as the 'root' user can result in broken permissions and conflicting behaviour with the system package manager. It is recommended to use a virtual environment instead: https://pip.pypa.io/warnings/venv\u001b[0m\n"
     ]
    }
   ],
   "source": [
    "!pip install ta==0.9.0\n",
    "!pip install shap"
   ]
  },
  {
   "cell_type": "code",
   "execution_count": 19,
   "id": "1c6d0a1e",
   "metadata": {},
   "outputs": [],
   "source": [
    "import datetime\n",
    "import sys\n",
    "import os\n",
    "import re\n",
    "import io\n",
    "import json\n",
    "import numpy as np\n",
    "import pandas as pd\n",
    "import matplotlib.pyplot as plt\n",
    "import ta\n",
    "\n",
    "import sys\n",
    "sys.path.append('/aiffel/aiffel/fnguide/data/')\n",
    "from libs.feature_importance import importance as imp\n",
    "from sklearn.feature_selection import SequentialFeatureSelector, RFECV\n",
    "\n",
    "from sklearn.preprocessing import StandardScaler\n",
    "from sklearn.model_selection import KFold\n",
    "from sklearn.svm import SVC\n",
    "from sklearn.ensemble import RandomForestClassifier, GradientBoostingClassifier"
   ]
  },
  {
   "cell_type": "code",
   "execution_count": 20,
   "id": "85c176d7",
   "metadata": {},
   "outputs": [],
   "source": [
    "# 데이터 경로 설정\n",
    "DATA_PATH = '/aiffel/aiffel/fnguide/data/'\n",
    "anno_file_name = os.path.join(DATA_PATH, 'sub_upbit_eth_min_tick_label.pkl')\n",
    "target_file_name = os.path.join(DATA_PATH, 'sub_upbit_eth_min_tick.csv')\n",
    "\n",
    "# 데이터 불러오기\n",
    "df_modify_data = pd.read_csv(target_file_name, index_col=0, parse_dates=True)\n",
    "df_label_data = pd.read_pickle(anno_file_name)\n",
    "df_sub_modify_data = df_modify_data.loc[df_label_data.index]\n",
    "\n",
    "# 학습 시간 단축을 위해 여기선 편의상 1000개의 데이터만 가져옵니다.\n",
    "df_sub_modify_data = df_sub_modify_data.iloc[:1000]"
   ]
  },
  {
   "cell_type": "code",
   "execution_count": 51,
   "id": "9bc577b8",
   "metadata": {},
   "outputs": [
    {
     "data": {
      "text/html": [
       "<div>\n",
       "<style scoped>\n",
       "    .dataframe tbody tr th:only-of-type {\n",
       "        vertical-align: middle;\n",
       "    }\n",
       "\n",
       "    .dataframe tbody tr th {\n",
       "        vertical-align: top;\n",
       "    }\n",
       "\n",
       "    .dataframe thead th {\n",
       "        text-align: right;\n",
       "    }\n",
       "</style>\n",
       "<table border=\"1\" class=\"dataframe\">\n",
       "  <thead>\n",
       "    <tr style=\"text-align: right;\">\n",
       "      <th></th>\n",
       "      <th>open</th>\n",
       "      <th>high</th>\n",
       "      <th>low</th>\n",
       "      <th>close</th>\n",
       "      <th>volume</th>\n",
       "    </tr>\n",
       "    <tr>\n",
       "      <th>time</th>\n",
       "      <th></th>\n",
       "      <th></th>\n",
       "      <th></th>\n",
       "      <th></th>\n",
       "      <th></th>\n",
       "    </tr>\n",
       "  </thead>\n",
       "  <tbody>\n",
       "    <tr>\n",
       "      <th>2018-01-01 00:00:00</th>\n",
       "      <td>1028000</td>\n",
       "      <td>1028000</td>\n",
       "      <td>1026500</td>\n",
       "      <td>1028000</td>\n",
       "      <td>41.835689</td>\n",
       "    </tr>\n",
       "    <tr>\n",
       "      <th>2018-01-01 00:01:00</th>\n",
       "      <td>1028000</td>\n",
       "      <td>1029000</td>\n",
       "      <td>1026000</td>\n",
       "      <td>1028500</td>\n",
       "      <td>22.307810</td>\n",
       "    </tr>\n",
       "    <tr>\n",
       "      <th>2018-01-01 00:02:00</th>\n",
       "      <td>1028000</td>\n",
       "      <td>1029000</td>\n",
       "      <td>1028000</td>\n",
       "      <td>1028000</td>\n",
       "      <td>59.276102</td>\n",
       "    </tr>\n",
       "    <tr>\n",
       "      <th>2018-01-01 00:03:00</th>\n",
       "      <td>1028000</td>\n",
       "      <td>1028000</td>\n",
       "      <td>1014000</td>\n",
       "      <td>1014000</td>\n",
       "      <td>114.203740</td>\n",
       "    </tr>\n",
       "    <tr>\n",
       "      <th>2018-01-01 00:04:00</th>\n",
       "      <td>1020000</td>\n",
       "      <td>1027000</td>\n",
       "      <td>1014500</td>\n",
       "      <td>1025000</td>\n",
       "      <td>62.695404</td>\n",
       "    </tr>\n",
       "    <tr>\n",
       "      <th>...</th>\n",
       "      <td>...</td>\n",
       "      <td>...</td>\n",
       "      <td>...</td>\n",
       "      <td>...</td>\n",
       "      <td>...</td>\n",
       "    </tr>\n",
       "    <tr>\n",
       "      <th>2018-01-01 16:35:00</th>\n",
       "      <td>1052500</td>\n",
       "      <td>1052500</td>\n",
       "      <td>1052500</td>\n",
       "      <td>1052500</td>\n",
       "      <td>6.084122</td>\n",
       "    </tr>\n",
       "    <tr>\n",
       "      <th>2018-01-01 16:36:00</th>\n",
       "      <td>1052500</td>\n",
       "      <td>1052500</td>\n",
       "      <td>1049500</td>\n",
       "      <td>1050000</td>\n",
       "      <td>9.205537</td>\n",
       "    </tr>\n",
       "    <tr>\n",
       "      <th>2018-01-01 16:37:00</th>\n",
       "      <td>1050000</td>\n",
       "      <td>1050000</td>\n",
       "      <td>1049000</td>\n",
       "      <td>1049000</td>\n",
       "      <td>3.472849</td>\n",
       "    </tr>\n",
       "    <tr>\n",
       "      <th>2018-01-01 16:38:00</th>\n",
       "      <td>1049000</td>\n",
       "      <td>1050000</td>\n",
       "      <td>1049000</td>\n",
       "      <td>1050000</td>\n",
       "      <td>2.364323</td>\n",
       "    </tr>\n",
       "    <tr>\n",
       "      <th>2018-01-01 16:39:00</th>\n",
       "      <td>1050000</td>\n",
       "      <td>1050000</td>\n",
       "      <td>1049000</td>\n",
       "      <td>1050000</td>\n",
       "      <td>18.149551</td>\n",
       "    </tr>\n",
       "  </tbody>\n",
       "</table>\n",
       "<p>1000 rows × 5 columns</p>\n",
       "</div>"
      ],
      "text/plain": [
       "                        open     high      low    close      volume\n",
       "time                                                               \n",
       "2018-01-01 00:00:00  1028000  1028000  1026500  1028000   41.835689\n",
       "2018-01-01 00:01:00  1028000  1029000  1026000  1028500   22.307810\n",
       "2018-01-01 00:02:00  1028000  1029000  1028000  1028000   59.276102\n",
       "2018-01-01 00:03:00  1028000  1028000  1014000  1014000  114.203740\n",
       "2018-01-01 00:04:00  1020000  1027000  1014500  1025000   62.695404\n",
       "...                      ...      ...      ...      ...         ...\n",
       "2018-01-01 16:35:00  1052500  1052500  1052500  1052500    6.084122\n",
       "2018-01-01 16:36:00  1052500  1052500  1049500  1050000    9.205537\n",
       "2018-01-01 16:37:00  1050000  1050000  1049000  1049000    3.472849\n",
       "2018-01-01 16:38:00  1049000  1050000  1049000  1050000    2.364323\n",
       "2018-01-01 16:39:00  1050000  1050000  1049000  1050000   18.149551\n",
       "\n",
       "[1000 rows x 5 columns]"
      ]
     },
     "execution_count": 51,
     "metadata": {},
     "output_type": "execute_result"
    }
   ],
   "source": [
    "df_sub_modify_data"
   ]
  },
  {
   "cell_type": "code",
   "execution_count": 21,
   "id": "9c27cca4",
   "metadata": {},
   "outputs": [],
   "source": [
    "# 기술적 지표를 적용합니다.\n",
    "\n",
    "mt = 1\n",
    "fillna = False\n",
    "df_ = df_sub_modify_data.copy()\n",
    "open, high, low, close, volume = 'open', 'high', 'low', 'close', 'volume'\n",
    "cols = [open, high, low, close, volume]\n",
    "\n",
    "## Volume Index\n",
    "# Chaikin Money Flow\n",
    "df_[\"volume_cmf\"] = ta.volume.ChaikinMoneyFlowIndicator(\n",
    "                        high=df_[high], low=df_[low], close=df_[close], volume=df_[volume], window=20*mt, fillna=fillna\n",
    "                    ).chaikin_money_flow()\n",
    "# Force Index\n",
    "df_[\"volume_fi\"] = ta.volume.ForceIndexIndicator(\n",
    "                        close=df_[close], volume=df_[volume], window=15*mt, fillna=fillna\n",
    "                    ).force_index()\n",
    "# Money Flow Indicator\n",
    "df_[\"volume_mfi\"] = ta.volume.MFIIndicator(\n",
    "                        high=df_[high],\n",
    "                        low=df_[low],\n",
    "                        close=df_[close],\n",
    "                        volume=df_[volume],\n",
    "                        window=15*mt,\n",
    "                        fillna=fillna,\n",
    "                    ).money_flow_index()\n",
    "# Ease of Movement\n",
    "df_[\"volume_sma_em\"] = ta.volume.EaseOfMovementIndicator(\n",
    "                            high=df_[high], low=df_[low], volume=df_[volume], window=15*mt, fillna=fillna\n",
    "                        ).sma_ease_of_movement()\n",
    "\n",
    "# Volume Price Trend\n",
    "df_[\"volume_vpt\"] = ta.volume.VolumePriceTrendIndicator(\n",
    "                        close=df_[close], volume=df_[volume], fillna=fillna\n",
    "                    ).volume_price_trend()\n",
    "\n",
    "## volatility index\n",
    "# Average True Range\n",
    "df_[\"volatility_atr\"] = ta.volatility.AverageTrueRange(\n",
    "                            close=df_[close], high=df_[high], low=df_[low], window=10*mt, fillna=fillna\n",
    "                        ).average_true_range()\n",
    "\n",
    "# Ulcer Index\n",
    "df_[\"volatility_ui\"] = ta.volatility.UlcerIndex(\n",
    "                            close=df_[close], window=15*mt, fillna=fillna\n",
    "                        ).ulcer_index()\n",
    "\n",
    "## trend index\n",
    "# MACD\n",
    "df_[\"trend_macd_diff\"] = ta.trend.MACD(\n",
    "                            close=df_[close], window_slow=25*mt, window_fast=10*mt, window_sign=9, fillna=fillna\n",
    "                        ).macd_diff()\n",
    "\n",
    "# Average Directional Movement Index (ADX)\n",
    "df_[\"trend_adx\"] = ta.trend.ADXIndicator(\n",
    "                        high=df_[high], low=df_[low], close=df_[close], window=15*mt, fillna=fillna\n",
    "                    ).adx()\n",
    "\n",
    "# TRIX Indicator\n",
    "df_[\"trend_trix\"] = ta.trend.TRIXIndicator(\n",
    "                        close=df_[close], window=15*mt, fillna=fillna\n",
    "                    ).trix()\n",
    "\n",
    "# Mass Index\n",
    "df_[\"trend_mass_index\"] = ta.trend.MassIndex(\n",
    "                            high=df_[high], low=df_[low], window_fast=10*mt, window_slow=25*mt, fillna=fillna\n",
    "                        ).mass_index()\n",
    "\n",
    "# DPO Indicator\n",
    "df_[\"trend_dpo\"] = ta.trend.DPOIndicator(\n",
    "                        close=df_[close], window=20*mt, fillna=fillna\n",
    "                    ).dpo()\n",
    "\n",
    "# Aroon Indicator\n",
    "df_[\"trend_aroon_ind\"] = ta.trend.AroonIndicator(close=df_[close], window=20, fillna=fillna).aroon_indicator()\n",
    "\n",
    "## momentum index\n",
    "# Relative Strength Index (RSI)\n",
    "df_[\"momentum_rsi\"] = ta.momentum.RSIIndicator(close=df_[close], window=15*mt, fillna=fillna).rsi()\n",
    "\n",
    "# Williams R Indicator\n",
    "df_[\"momentum_wr\"] = ta.momentum.WilliamsRIndicator(\n",
    "                        high=df_[high], low=df_[low], close=df_[close], lbp=15*mt, fillna=fillna\n",
    "                    ).williams_r()"
   ]
  },
  {
   "cell_type": "code",
   "execution_count": 22,
   "id": "869e5cf7",
   "metadata": {},
   "outputs": [],
   "source": [
    "# 수익률 / 변동성 지표를 적용합니다.\n",
    "windows_mom = [5, 10, 20]\n",
    "windows_std = [30]\n",
    "\n",
    "for i in windows_mom:\n",
    "    df_[f'vol_change_{i}'] = df_.volume.pct_change(i).round(6)\n",
    "    df_[f'ret_{i}'] = df_.close.pct_change(i).round(6)\n",
    "\n",
    "for i in windows_std:\n",
    "    df_[f'std_{i}'] = df_.close.rolling(i).std()\n",
    "    df_[f'vol_std_{i}'] = df_.volume.rolling(i).std()"
   ]
  },
  {
   "cell_type": "code",
   "execution_count": 23,
   "id": "bbb51302",
   "metadata": {},
   "outputs": [],
   "source": [
    "df_tmp_data = df_.join(df_label_data).dropna()\n",
    "\n",
    "X = df_tmp_data.iloc[:, 5:-1] \n",
    "y = df_tmp_data.iloc[:, -1]\n",
    "\n",
    "sc = StandardScaler()\n",
    "\n",
    "X_sc = sc.fit_transform(X)\n",
    "X_sc = pd.DataFrame(X_sc, index=X.index, columns=X.columns)"
   ]
  },
  {
   "cell_type": "code",
   "execution_count": 24,
   "id": "8e51c20d",
   "metadata": {},
   "outputs": [],
   "source": [
    "df_tmp_data = df_.join(df_label_data).dropna()\n",
    "X, y = df_tmp_data.iloc[:, 5:-1], df_tmp_data.iloc[:, -1]\n",
    "\n",
    "sc = StandardScaler()\n",
    "X_sc = sc.fit_transform(X)\n",
    "X_sc = pd.DataFrame(X_sc, index=X.index, columns=X.columns)"
   ]
  },
  {
   "cell_type": "markdown",
   "id": "faa962f2",
   "metadata": {},
   "source": [
    "## RandomForest  모델 "
   ]
  },
  {
   "cell_type": "code",
   "execution_count": 42,
   "id": "2283faaa",
   "metadata": {},
   "outputs": [
    {
     "data": {
      "text/plain": [
       "RandomForestClassifier(class_weight='balanced')"
      ]
     },
     "execution_count": 42,
     "metadata": {},
     "output_type": "execute_result"
    }
   ],
   "source": [
    "rfc = RandomForestClassifier(class_weight='balanced')\n",
    "rfc.fit(X_sc, y)"
   ]
  },
  {
   "cell_type": "markdown",
   "id": "e14f6d7e",
   "metadata": {},
   "source": [
    "---\n",
    "\n",
    "# Feature Selection"
   ]
  },
  {
   "cell_type": "markdown",
   "id": "b63afabc",
   "metadata": {},
   "source": [
    "## MDI"
   ]
  },
  {
   "cell_type": "code",
   "execution_count": 35,
   "id": "e4cefba6",
   "metadata": {},
   "outputs": [
    {
     "data": {
      "text/html": [
       "<div>\n",
       "<style scoped>\n",
       "    .dataframe tbody tr th:only-of-type {\n",
       "        vertical-align: middle;\n",
       "    }\n",
       "\n",
       "    .dataframe tbody tr th {\n",
       "        vertical-align: top;\n",
       "    }\n",
       "\n",
       "    .dataframe thead th {\n",
       "        text-align: right;\n",
       "    }\n",
       "</style>\n",
       "<table border=\"1\" class=\"dataframe\">\n",
       "  <thead>\n",
       "    <tr style=\"text-align: right;\">\n",
       "      <th></th>\n",
       "      <th>mean</th>\n",
       "      <th>std</th>\n",
       "    </tr>\n",
       "  </thead>\n",
       "  <tbody>\n",
       "    <tr>\n",
       "      <th>volume_cmf</th>\n",
       "      <td>0.049677</td>\n",
       "      <td>0.001986</td>\n",
       "    </tr>\n",
       "    <tr>\n",
       "      <th>volume_fi</th>\n",
       "      <td>0.039622</td>\n",
       "      <td>0.002065</td>\n",
       "    </tr>\n",
       "    <tr>\n",
       "      <th>volume_mfi</th>\n",
       "      <td>0.046042</td>\n",
       "      <td>0.002339</td>\n",
       "    </tr>\n",
       "    <tr>\n",
       "      <th>volume_sma_em</th>\n",
       "      <td>0.036214</td>\n",
       "      <td>0.001871</td>\n",
       "    </tr>\n",
       "    <tr>\n",
       "      <th>volume_vpt</th>\n",
       "      <td>0.025919</td>\n",
       "      <td>0.001647</td>\n",
       "    </tr>\n",
       "    <tr>\n",
       "      <th>volatility_atr</th>\n",
       "      <td>0.076674</td>\n",
       "      <td>0.003265</td>\n",
       "    </tr>\n",
       "    <tr>\n",
       "      <th>volatility_ui</th>\n",
       "      <td>0.049162</td>\n",
       "      <td>0.002652</td>\n",
       "    </tr>\n",
       "    <tr>\n",
       "      <th>trend_macd_diff</th>\n",
       "      <td>0.078875</td>\n",
       "      <td>0.003820</td>\n",
       "    </tr>\n",
       "    <tr>\n",
       "      <th>trend_adx</th>\n",
       "      <td>0.053952</td>\n",
       "      <td>0.002238</td>\n",
       "    </tr>\n",
       "    <tr>\n",
       "      <th>trend_trix</th>\n",
       "      <td>0.068536</td>\n",
       "      <td>0.003120</td>\n",
       "    </tr>\n",
       "    <tr>\n",
       "      <th>trend_mass_index</th>\n",
       "      <td>0.071654</td>\n",
       "      <td>0.003591</td>\n",
       "    </tr>\n",
       "    <tr>\n",
       "      <th>trend_dpo</th>\n",
       "      <td>0.023885</td>\n",
       "      <td>0.001426</td>\n",
       "    </tr>\n",
       "    <tr>\n",
       "      <th>trend_aroon_ind</th>\n",
       "      <td>0.032639</td>\n",
       "      <td>0.001801</td>\n",
       "    </tr>\n",
       "    <tr>\n",
       "      <th>momentum_rsi</th>\n",
       "      <td>0.031494</td>\n",
       "      <td>0.002179</td>\n",
       "    </tr>\n",
       "    <tr>\n",
       "      <th>momentum_wr</th>\n",
       "      <td>0.025231</td>\n",
       "      <td>0.001663</td>\n",
       "    </tr>\n",
       "    <tr>\n",
       "      <th>vol_change_5</th>\n",
       "      <td>0.016840</td>\n",
       "      <td>0.001058</td>\n",
       "    </tr>\n",
       "    <tr>\n",
       "      <th>ret_5</th>\n",
       "      <td>0.030442</td>\n",
       "      <td>0.002208</td>\n",
       "    </tr>\n",
       "    <tr>\n",
       "      <th>vol_change_10</th>\n",
       "      <td>0.015994</td>\n",
       "      <td>0.001034</td>\n",
       "    </tr>\n",
       "    <tr>\n",
       "      <th>ret_10</th>\n",
       "      <td>0.048771</td>\n",
       "      <td>0.002995</td>\n",
       "    </tr>\n",
       "    <tr>\n",
       "      <th>vol_change_20</th>\n",
       "      <td>0.016739</td>\n",
       "      <td>0.001038</td>\n",
       "    </tr>\n",
       "    <tr>\n",
       "      <th>ret_20</th>\n",
       "      <td>0.041474</td>\n",
       "      <td>0.002309</td>\n",
       "    </tr>\n",
       "    <tr>\n",
       "      <th>std_30</th>\n",
       "      <td>0.049824</td>\n",
       "      <td>0.002330</td>\n",
       "    </tr>\n",
       "    <tr>\n",
       "      <th>vol_std_30</th>\n",
       "      <td>0.070345</td>\n",
       "      <td>0.003127</td>\n",
       "    </tr>\n",
       "  </tbody>\n",
       "</table>\n",
       "</div>"
      ],
      "text/plain": [
       "                      mean       std\n",
       "volume_cmf        0.049677  0.001986\n",
       "volume_fi         0.039622  0.002065\n",
       "volume_mfi        0.046042  0.002339\n",
       "volume_sma_em     0.036214  0.001871\n",
       "volume_vpt        0.025919  0.001647\n",
       "volatility_atr    0.076674  0.003265\n",
       "volatility_ui     0.049162  0.002652\n",
       "trend_macd_diff   0.078875  0.003820\n",
       "trend_adx         0.053952  0.002238\n",
       "trend_trix        0.068536  0.003120\n",
       "trend_mass_index  0.071654  0.003591\n",
       "trend_dpo         0.023885  0.001426\n",
       "trend_aroon_ind   0.032639  0.001801\n",
       "momentum_rsi      0.031494  0.002179\n",
       "momentum_wr       0.025231  0.001663\n",
       "vol_change_5      0.016840  0.001058\n",
       "ret_5             0.030442  0.002208\n",
       "vol_change_10     0.015994  0.001034\n",
       "ret_10            0.048771  0.002995\n",
       "vol_change_20     0.016739  0.001038\n",
       "ret_20            0.041474  0.002309\n",
       "std_30            0.049824  0.002330\n",
       "vol_std_30        0.070345  0.003127"
      ]
     },
     "execution_count": 35,
     "metadata": {},
     "output_type": "execute_result"
    }
   ],
   "source": [
    "# MDI, Mean Decrease Impurity \n",
    "feat_imp = imp.mean_decrease_impurity(rfc, X.columns)\n",
    "feat_imp"
   ]
  },
  {
   "cell_type": "markdown",
   "id": "7d78394f",
   "metadata": {},
   "source": [
    "## MDA"
   ]
  },
  {
   "cell_type": "code",
   "execution_count": 27,
   "id": "1c905e81",
   "metadata": {},
   "outputs": [],
   "source": [
    "# MDA, Mean Decrease Accuracy\n",
    "svc_rbf = SVC(kernel='rbf', probability=True) # Tree 및 Support Vector Machine 외에 다른 분류기(classifier)를 사용해봅시다.\n",
    "cv = KFold(n_splits=10) # n_splits을 변경해봅시다.\n",
    "feat_imp_mda = imp.mean_decrease_accuracy(svc_rbf, X_sc, y, cv_gen=cv)"
   ]
  },
  {
   "cell_type": "code",
   "execution_count": 28,
   "id": "1a735509",
   "metadata": {},
   "outputs": [],
   "source": [
    "# plot_feature_importance 함수 만들기\n",
    "def plot_feature_importance(importance_df, save_fig=False, output_path=None):\n",
    "    # Plot mean imp bars with std\n",
    "    plt.figure(figsize=(10, importance_df.shape[0] / 5))\n",
    "    importance_df.sort_values('mean', ascending=True, inplace=True)\n",
    "    importance_df['mean'].plot(kind='barh', color='b', alpha=0.25, xerr=importance_df['std'], error_kw={'ecolor': 'r'})\n",
    "    if save_fig:\n",
    "        plt.savefig(output_path) \n",
    "    else:\n",
    "        plt.show()"
   ]
  },
  {
   "cell_type": "code",
   "execution_count": 38,
   "id": "cf109986",
   "metadata": {},
   "outputs": [
    {
     "data": {
      "image/png": "[encoded data removed]",
      "text/plain": [
       "<Figure size 720x331.2 with 1 Axes>"
      ]
     },
     "metadata": {
      "needs_background": "light"
     },
     "output_type": "display_data"
    },
    {
     "data": {
      "image/png": "[encoded data removed]",
      "text/plain": [
       "<Figure size 720x331.2 with 1 Axes>"
      ]
     },
     "metadata": {
      "needs_background": "light"
     },
     "output_type": "display_data"
    }
   ],
   "source": [
    "plot_feature_importance(feat_imp)\n",
    "plot_feature_importance(feat_imp_mda)"
   ]
  },
  {
   "cell_type": "markdown",
   "id": "bf1a5289",
   "metadata": {},
   "source": [
    "## RFE CV"
   ]
  },
  {
   "cell_type": "code",
   "execution_count": 35,
   "id": "fb03548d",
   "metadata": {},
   "outputs": [],
   "source": [
    "svc_rbf = SVC(kernel='linear', probability=True)\n",
    "rfe_cv = RFECV(svc_rbf, cv=cv)\n",
    "rfe_fitted = rfe_cv.fit(X_sc, y)"
   ]
  },
  {
   "cell_type": "code",
   "execution_count": 36,
   "id": "b5e045a5",
   "metadata": {},
   "outputs": [
    {
     "data": {
      "text/html": [
       "<div>\n",
       "<style scoped>\n",
       "    .dataframe tbody tr th:only-of-type {\n",
       "        vertical-align: middle;\n",
       "    }\n",
       "\n",
       "    .dataframe tbody tr th {\n",
       "        vertical-align: top;\n",
       "    }\n",
       "\n",
       "    .dataframe thead th {\n",
       "        text-align: right;\n",
       "    }\n",
       "</style>\n",
       "<table border=\"1\" class=\"dataframe\">\n",
       "  <thead>\n",
       "    <tr style=\"text-align: right;\">\n",
       "      <th></th>\n",
       "      <th>Optimal_Features</th>\n",
       "      <th>Ranking</th>\n",
       "    </tr>\n",
       "  </thead>\n",
       "  <tbody>\n",
       "    <tr>\n",
       "      <th>trend_macd_diff</th>\n",
       "      <td>True</td>\n",
       "      <td>1</td>\n",
       "    </tr>\n",
       "  </tbody>\n",
       "</table>\n",
       "</div>"
      ],
      "text/plain": [
       "                Optimal_Features Ranking\n",
       "trend_macd_diff             True       1"
      ]
     },
     "execution_count": 36,
     "metadata": {},
     "output_type": "execute_result"
    }
   ],
   "source": [
    "rfe_df = pd.DataFrame([rfe_fitted.support_, rfe_fitted.ranking_], columns=X_sc.columns).T.rename(columns={0:\"Optimal_Features\", 1:\"Ranking\"})\n",
    "\n",
    "rfe_df[rfe_df[\"Optimal_Features\"]==True]"
   ]
  },
  {
   "cell_type": "markdown",
   "id": "992bd56c",
   "metadata": {},
   "source": [
    "## SFS\n",
    "### 순차적으로 Feature를 더하거나 빼는 방식으로 Feature의 최적조합을 찾는 방식"
   ]
  },
  {
   "cell_type": "code",
   "execution_count": 39,
   "id": "b347a0d3",
   "metadata": {},
   "outputs": [],
   "source": [
    "n = 1  # 최종적으로 선택할 Feature 개수\n",
    "\n",
    "sfs_forward = SequentialFeatureSelector(svc_rbf, n_features_to_select=n, direction='forward')\n",
    "sfs_fitted = sfs_forward.fit(X_sc, y)"
   ]
  },
  {
   "cell_type": "code",
   "execution_count": 40,
   "id": "c5ffbc2e",
   "metadata": {},
   "outputs": [
    {
     "data": {
      "text/plain": [
       "Index(['trend_macd_diff'], dtype='object')"
      ]
     },
     "execution_count": 40,
     "metadata": {},
     "output_type": "execute_result"
    }
   ],
   "source": [
    "sfs_rank = sfs_fitted.get_support()\n",
    "sfs_df = pd.DataFrame(sfs_rank, index=X_sc.columns, columns={\"Optimal_Features\"})\n",
    "\n",
    "sfs_df [sfs_df [\"Optimal_Features\"]==True].index"
   ]
  },
  {
   "cell_type": "markdown",
   "id": "2a6758a0",
   "metadata": {},
   "source": [
    "## SHAP"
   ]
  },
  {
   "cell_type": "code",
   "execution_count": 43,
   "id": "3bd99b41",
   "metadata": {},
   "outputs": [
    {
     "data": {
      "image/png": "[encoded data removed]",
      "text/plain": [
       "<Figure size 828x475.2 with 3 Axes>"
      ]
     },
     "metadata": {
      "needs_background": "light"
     },
     "output_type": "display_data"
    }
   ],
   "source": [
    "import shap\n",
    "\n",
    "explainer = shap.TreeExplainer(rfc)\n",
    "shap_value = explainer.shap_values(X_sc)\n",
    "shap.summary_plot(shap_value, X_sc)"
   ]
  },
  {
   "cell_type": "markdown",
   "id": "031cfb2f",
   "metadata": {},
   "source": [
    "---\n",
    "\n",
    "# Modeling"
   ]
  },
  {
   "cell_type": "code",
   "execution_count": 44,
   "id": "060d457e",
   "metadata": {},
   "outputs": [],
   "source": [
    "import datetime\n",
    "import sys\n",
    "import os\n",
    "import re\n",
    "import io\n",
    "import json\n",
    "import numpy as np\n",
    "import pandas as pd\n",
    "import matplotlib.pyplot as plt\n",
    "import ta\n",
    "\n",
    "from sklearn.preprocessing import StandardScaler\n",
    "from sklearn.model_selection import GridSearchCV\n",
    "from sklearn.model_selection import KFold\n",
    "from sklearn.ensemble import RandomForestClassifier, BaggingClassifier\n",
    "from sklearn.metrics import accuracy_score, precision_score, recall_score, confusion_matrix, f1_score, roc_auc_score, roc_curve\n",
    "\n",
    "sys.path.append('/aiffel/aiffel/fnguide/data/')\n",
    "from libs.mlutil.pkfold import PKFold"
   ]
  },
  {
   "cell_type": "code",
   "execution_count": 47,
   "id": "67a430dc",
   "metadata": {},
   "outputs": [],
   "source": [
    "# 데이터 경로 설정 및 pickle 파일 불러오기\n",
    "DATA_PATH = '/aiffel/aiffel/fnguide/data/'\n",
    "data_file_name = os.path.join(DATA_PATH, 'sub_upbit_eth_min_feature_labels.pkl')\n",
    "\n",
    "df_data = pd.read_pickle(data_file_name)\n",
    "df_data['t_value'] = df_data['t_value'].apply(lambda x: x if x == 1 else 0)"
   ]
  },
  {
   "cell_type": "code",
   "execution_count": 48,
   "id": "adec1c76",
   "metadata": {},
   "outputs": [
    {
     "data": {
      "text/plain": [
       "1.0    481\n",
       "0.0    476\n",
       "Name: t_value, dtype: int64"
      ]
     },
     "execution_count": 48,
     "metadata": {},
     "output_type": "execute_result"
    }
   ],
   "source": [
    "df_data['t_value'].value_counts()"
   ]
  },
  {
   "cell_type": "code",
   "execution_count": 49,
   "id": "6c04ccc3",
   "metadata": {},
   "outputs": [],
   "source": [
    "train_ratio, test_ratio = 0.7, 0.2\n",
    "n_train = int(np.round(len(df_data) * train_ratio))\n",
    "n_test = int(np.round(len(df_data) * test_ratio))\n",
    "\n",
    "X, y = df_data.iloc[:, 5:-1], df_data.iloc[:, -1]\n",
    "\n",
    "# standardzation\n",
    "sc = StandardScaler()\n",
    "X_sc = sc.fit_transform(X)"
   ]
  },
  {
   "cell_type": "markdown",
   "id": "b4b0b417",
   "metadata": {},
   "source": [
    "## Train, Test 분리"
   ]
  },
  {
   "cell_type": "code",
   "execution_count": 50,
   "id": "4c36a55c",
   "metadata": {},
   "outputs": [],
   "source": [
    "train_x, test_x, train_y, test_y = X_sc[:n_train, :], X_sc[-n_test:, :], y.iloc[:n_train], y.iloc[-n_test:]\n",
    "\n",
    "train_x = pd.DataFrame(train_x, index=train_y.index, columns=X.columns)\n",
    "train_y = pd.Series(train_y, index=train_y.index)\n",
    "test_x = pd.DataFrame(test_x, index=test_y.index, columns=X.columns)\n",
    "test_y = pd.Series(test_y, index=test_y.index)\n",
    "\n",
    "# 학습 시간 단축을 위해 여기선 편의상 1000개의 데이터만 가져옵니다.\n",
    "train_x = train_x[:1000] # 데이터셋을 증가 혹은 감소시켜 결과를 비교해봅시다.\n",
    "train_y = train_y[:1000]"
   ]
  },
  {
   "cell_type": "code",
   "execution_count": 52,
   "id": "638c62b2",
   "metadata": {},
   "outputs": [
    {
     "name": "stdout",
     "output_type": "stream",
     "text": [
      "(670, 23) (670,)\n"
     ]
    }
   ],
   "source": [
    "print(train_x.shape, train_y.shape)"
   ]
  },
  {
   "cell_type": "markdown",
   "id": "582d9a1c",
   "metadata": {},
   "source": [
    "## PK-Fold\n",
    "#### 데이터의 개수가 작을 경우 Fold 개수를 늘리는 것이 좋음\n",
    "#### 4개에서 -> 7개로 늘려서 진행"
   ]
  },
  {
   "cell_type": "code",
   "execution_count": 53,
   "id": "0404eb32",
   "metadata": {},
   "outputs": [],
   "source": [
    "n_cv = 7\n",
    "t1 = pd.Series(train_y.index.values, index=train_y.index)\n",
    "\n",
    "cv = PKFold(n_cv, t1, 0)"
   ]
  },
  {
   "cell_type": "code",
   "execution_count": 54,
   "id": "72e2b850",
   "metadata": {},
   "outputs": [],
   "source": [
    "# GridsearchCV에서 사용할 파라미터 설정합니다. 파라미터값을 바꿔보세요\n",
    "bc_params = {'n_estimators': [5, 10, 20],\n",
    "             'max_features': [0.5, 0.7],\n",
    "             'base_estimator__max_depth': [3,5,10,20],\n",
    "             'base_estimator__max_features': [None, 'auto'],\n",
    "             'base_estimator__min_samples_leaf': [3, 5, 10],\n",
    "             'bootstrap_features': [False, True]\n",
    "            }"
   ]
  },
  {
   "cell_type": "code",
   "execution_count": 55,
   "id": "f75b7699",
   "metadata": {},
   "outputs": [],
   "source": [
    "# RandomForest 사용\n",
    "rfc = RandomForestClassifier(class_weight='balanced')"
   ]
  },
  {
   "cell_type": "code",
   "execution_count": 56,
   "id": "003a611a",
   "metadata": {},
   "outputs": [],
   "source": [
    "bag_rfc = BaggingClassifier(rfc)"
   ]
  },
  {
   "cell_type": "code",
   "execution_count": 57,
   "id": "e785b2f5",
   "metadata": {},
   "outputs": [
    {
     "name": "stdout",
     "output_type": "stream",
     "text": [
      "Fitting 7 folds for each of 288 candidates, totalling 2016 fits\n"
     ]
    },
    {
     "data": {
      "text/plain": [
       "BaggingClassifier(base_estimator=RandomForestClassifier(class_weight='balanced',\n",
       "                                                        max_depth=20,\n",
       "                                                        max_features=None,\n",
       "                                                        min_samples_leaf=10),\n",
       "                  max_features=0.7, n_estimators=5)"
      ]
     },
     "execution_count": 57,
     "metadata": {},
     "output_type": "execute_result"
    }
   ],
   "source": [
    "gs_rfc = GridSearchCV(bag_rfc, bc_params, cv=cv, n_jobs=-1, verbose=1)\n",
    "gs_rfc.fit(train_x, train_y)\n",
    "\n",
    "gs_rfc_best = gs_rfc.best_estimator_\n",
    "gs_rfc_best.fit(train_x, train_y)"
   ]
  },
  {
   "cell_type": "code",
   "execution_count": 58,
   "id": "a19769ec",
   "metadata": {},
   "outputs": [],
   "source": [
    "# 예측값 확인\n",
    "pred_y = gs_rfc_best.predict(test_x)\n",
    "prob_y = gs_rfc_best.predict_proba(test_x)"
   ]
  },
  {
   "cell_type": "code",
   "execution_count": 59,
   "id": "44f5c509",
   "metadata": {},
   "outputs": [
    {
     "name": "stdout",
     "output_type": "stream",
     "text": [
      "=======================================================\n",
      "정확도:0.6858638743455497, 정밀도:0.4742268041237113, 재현율:0.8363636363636363\n"
     ]
    }
   ],
   "source": [
    "confusion = confusion_matrix(test_y, pred_y)\n",
    "accuracy  = accuracy_score(test_y, pred_y)\n",
    "precision = precision_score(test_y, pred_y)\n",
    "recall    = recall_score(test_y, pred_y)\n",
    "\n",
    "print('=======================================================')\n",
    "print(f'정확도:{accuracy}, 정밀도:{precision}, 재현율:{recall}')"
   ]
  },
  {
   "cell_type": "code",
   "execution_count": 60,
   "id": "b7599d11",
   "metadata": {},
   "outputs": [
    {
     "name": "stdout",
     "output_type": "stream",
     "text": [
      "auc:0.7306818181818182\n"
     ]
    },
    {
     "data": {
      "image/png": "[encoded data removed]",
      "text/plain": [
       "<Figure size 432x288 with 1 Axes>"
      ]
     },
     "metadata": {
      "needs_background": "light"
     },
     "output_type": "display_data"
    }
   ],
   "source": [
    "fpr, tpr, thresholds = roc_curve(test_y, pred_y)\n",
    "auc = roc_auc_score(test_y, pred_y)\n",
    "plt.plot(fpr, tpr, linewidth=2)\n",
    "plt.plot([0, 1], [0, 1], 'k--') # dashed diagonal\n",
    "plt.xlabel('fpr')\n",
    "plt.ylabel('tpr')\n",
    "print(f'auc:{auc}')"
   ]
  },
  {
   "cell_type": "code",
   "execution_count": null,
   "id": "09a04e1d",
   "metadata": {},
   "outputs": [],
   "source": []
  }
 ],
 "metadata": {
  "kernelspec": {
   "display_name": "Python 3 (ipykernel)",
   "language": "python",
   "name": "python3"
  },
  "language_info": {
   "codemirror_mode": {
    "name": "ipython",
    "version": 3
   },
   "file_extension": ".py",
   "mimetype": "text/x-python",
   "name": "python",
   "nbconvert_exporter": "python",
   "pygments_lexer": "ipython3",
   "version": "3.9.7"
  }
 },
 "nbformat": 4,
 "nbformat_minor": 5
}
