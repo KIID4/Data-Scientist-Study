{
  "nbformat": 4,
  "nbformat_minor": 0,
  "metadata": {
    "colab": {
      "provenance": []
    },
    "kernelspec": {
      "name": "python3",
      "display_name": "Python 3"
    },
    "language_info": {
      "name": "python"
    }
  },
  "cells": [
    {
      "cell_type": "markdown",
      "source": [
        "# 대표적인 추천 시스템 알고리즘\n",
        "\n",
        "- Collaborative Filtering : 협업 필터링  \n",
        "\n",
        "- Content - based Recommender Systems : 컨텐츠 기반 추천시스템\n",
        "\n",
        "- Knowledge - based Systems : 지식 기반 추천 시스템  \n",
        "\n",
        "[추천 시스템 알고리즘 참고문헌](https://velog.io/@jochedda/%EC%B6%94%EC%B2%9C-%EC%8B%9C%EC%8A%A4%ED%85%9C-%EC%B6%94%EC%B2%9C-%EC%95%8C%EA%B3%A0%EB%A6%AC%EC%A6%98-%EC%A2%85%EB%A5%98)\n",
        "\n",
        "<br/>\n",
        "\n",
        "![-](https://velog.velcdn.com/images/jochedda/post/40fc993e-029a-4414-a653-e19c729387fc/image.png)\n",
        "\n",
        "<br/>\n",
        "\n",
        "\n",
        "## 추천 시스템의 목표\n",
        "- Prediction versioin of Prolem(Matrix Completion Problem) : 학습 데이터를 통해 유저의 선호도를 정확하게 예측하는 것이 목적\n",
        "\n",
        "- Ranking version of Problem : 정확한 수치를 예측하는 것이 아닌, 랭킹을 고려해 top N개의 아이템을 선정하는 것이 목적\n",
        "\n",
        "=> 일반적으로 Prediction versioin of Prolem이 주 목적\n",
        "\n",
        "=> but <u>상품을 고를 때 상대적으로 더 좋은 것을 구매하기에 Ranking 문제가 더 자연스러움</u>\n",
        "\n",
        "<br/>\n",
        "\n",
        "### 협업 필터링(Collaborative Filtering)\n",
        "- 두 명의 사용자가 비슷한 관심사를 가지고 있다면, 한 사용자의 데이터를 바탕으로 다른 사용자에게 추천해주는 방식\n",
        "  - Memory - Based methods\n",
        "    - 사용자 기반 추천 (User-based collaborative filtering) : 같은 그룹의 다른 유저가 선호하는 아이템을 추천<br/>(특징이 유사한 TOP K의 유저들로 그룹을 구성)\n",
        "\n",
        "    - 아이템 기반 추천 (Item-based collaborative filtering) : B Item에 대한 유저의 선호도 예측을 위해 유사한<br/> TOP K의 아이템을 그룹으로 구성\n",
        "  <br/>\n",
        "\n",
        "  - Model - based methods : 머신러닝이나 데이터 마이닝 방법에서 예측 모델의 context를 기반한 방법\n",
        "\n",
        "<br/>\n",
        "\n",
        "#### 협업 필터링의 한계점\n",
        "  - 콜드 스타트 : 과거의 결과를 이용하여 예측하므로 데이터가 존재하지 않는 경우 예측 X\n",
        "  - 계산 효율 저하 : 사용자 수가 많아질 수록 일일히 비교하기에 계산시간 길어짐<br/> (효율성 감소)\n",
        "  - 롱테일 : 사용자들이 소수의 인기 있는 항목에만 관심을 보임<br/>(새로운 항목 추천 X)\n",
        "\n",
        "<br/>\n",
        "\n",
        "### 콘텐츠 기반 필터링 (Content based Filtering)\n",
        "- 사용자가 과거에 구매했던 아이템 중 비슷한 아이템을 추천하는 것(유저의 성향 분석)\n",
        "- EDA과정에서 관련 있는 정보를 얻는 작업, 유저 프로필 파악이 필요\n",
        "\n",
        "<br/>\n",
        "\n",
        "#### 콘텐츠 기반 필터링 한계점\n",
        "  - 다양한 항목을 추천하기에 어려움\n",
        "\n",
        "<br/>\n",
        "\n",
        "### 하이브리드 필터링 (Hybrid Filtering)\n",
        "- 새로운 아이템에 대한 평점이 없으면 추천 성능이 떨어지게 되는 협업 필터링과<br/> 아이템의 특징에 대한 정보를 이용할 수 있는 지식 기반 추천시스템을 결합한 방법"
      ],
      "metadata": {
        "id": "t_MFQQUGjvSy"
      }
    },
    {
      "cell_type": "code",
      "source": [],
      "metadata": {
        "id": "mqEJ7ue6pVCa"
      },
      "execution_count": null,
      "outputs": []
    }
  ]
}