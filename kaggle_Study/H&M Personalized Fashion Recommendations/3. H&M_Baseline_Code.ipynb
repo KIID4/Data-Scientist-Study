{
  "nbformat": 4,
  "nbformat_minor": 0,
  "metadata": {
    "colab": {
      "provenance": []
    },
    "kernelspec": {
      "name": "python3",
      "display_name": "Python 3"
    },
    "language_info": {
      "name": "python"
    }
  },
  "cells": [
    {
      "cell_type": "markdown",
      "source": [
        "[Improved H&M Pure Pytorch Baseline](https://www.kaggle.com/code/guoyonfan/improved-h-m-pure-pytorch-baseline/notebook)"
      ],
      "metadata": {
        "id": "WTixU6aOuRmK"
      }
    },
    {
      "cell_type": "markdown",
      "source": [
        "# Data Load\n"
      ],
      "metadata": {
        "id": "walfILnAbFd0"
      }
    },
    {
      "cell_type": "code",
      "execution_count": null,
      "metadata": {
        "id": "GL67u2cyRsac"
      },
      "outputs": [],
      "source": [
        "import gc\n",
        "import numpy as np\n",
        "import pandas as pd\n",
        "\n",
        "is_debug = False\n",
        "df = pd.read_csv(\"../input/h-and-m-personalized-fashion-recommendations/transactions_train.csv\",\n",
        "                 dtype={\"article_id\": str})\n",
        "print(df.shape)\n",
        "df.head()"
      ]
    },
    {
      "cell_type": "markdown",
      "source": [
        "# t_dat 연산 할 수 있게 날짜형식으로 변경"
      ],
      "metadata": {
        "id": "yerY47qNbINF"
      }
    },
    {
      "cell_type": "code",
      "source": [
        "df[\"t_dat\"] = pd.to_datetime(df[\"t_dat\"])\n",
        "df[\"t_dat\"].max()"
      ],
      "metadata": {
        "id": "7vuGrx0IbISD"
      },
      "execution_count": null,
      "outputs": []
    },
    {
      "cell_type": "markdown",
      "source": [
        "# 구매 날짜가 가장 최근인 고객 ID를 그룹화 시킴\n",
        "# 2019년 9월 1일 이후로 필터링"
      ],
      "metadata": {
        "id": "lDorKJEMlv9E"
      }
    },
    {
      "cell_type": "code",
      "source": [
        "active_articles = df.groupby(\"article_id\")[\"t_dat\"].max().reset_index()\n",
        "active_articles = active_articles[active_articles[\"t_dat\"] >= \"2019-09-01\"].reset_index()\n",
        "active_articles.shape"
      ],
      "metadata": {
        "id": "lPBJOSmflwKX"
      },
      "execution_count": null,
      "outputs": []
    },
    {
      "cell_type": "markdown",
      "source": [
        "## 고객 ID가 존재하는지 필터링"
      ],
      "metadata": {
        "id": "JAkV30v7mkCA"
      }
    },
    {
      "cell_type": "code",
      "source": [
        "df = df[df[\"article_id\"].isin(active_articles[\"article_id\"])].reset_index(drop=True)\n",
        "df.shape"
      ],
      "metadata": {
        "colab": {
          "base_uri": "https://localhost:8080/",
          "height": 166
        },
        "id": "EF8Z4HB-mkFa",
        "outputId": "6277704d-0c7e-4d49-dfc3-8f12b370dc40"
      },
      "execution_count": null,
      "outputs": [
        {
          "output_type": "error",
          "ename": "NameError",
          "evalue": "name 'df' is not defined",
          "traceback": [
            "\u001b[0;31m---------------------------------------------------------------------------\u001b[0m",
            "\u001b[0;31mNameError\u001b[0m                                 Traceback (most recent call last)",
            "\u001b[0;32m<ipython-input-1-c7cbe52e9b3b>\u001b[0m in \u001b[0;36m<cell line: 1>\u001b[0;34m()\u001b[0m\n\u001b[0;32m----> 1\u001b[0;31m \u001b[0mdf\u001b[0m \u001b[0;34m=\u001b[0m \u001b[0mdf\u001b[0m\u001b[0;34m[\u001b[0m\u001b[0mdf\u001b[0m\u001b[0;34m[\u001b[0m\u001b[0;34m\"article_id\"\u001b[0m\u001b[0;34m]\u001b[0m\u001b[0;34m.\u001b[0m\u001b[0misin\u001b[0m\u001b[0;34m(\u001b[0m\u001b[0mactive_articles\u001b[0m\u001b[0;34m[\u001b[0m\u001b[0;34m\"article_id\"\u001b[0m\u001b[0;34m]\u001b[0m\u001b[0;34m)\u001b[0m\u001b[0;34m]\u001b[0m\u001b[0;34m.\u001b[0m\u001b[0mreset_index\u001b[0m\u001b[0;34m(\u001b[0m\u001b[0mdrop\u001b[0m\u001b[0;34m=\u001b[0m\u001b[0;32mTrue\u001b[0m\u001b[0;34m)\u001b[0m\u001b[0;34m\u001b[0m\u001b[0;34m\u001b[0m\u001b[0m\n\u001b[0m\u001b[1;32m      2\u001b[0m \u001b[0mdf\u001b[0m\u001b[0;34m.\u001b[0m\u001b[0mshape\u001b[0m\u001b[0;34m\u001b[0m\u001b[0;34m\u001b[0m\u001b[0m\n",
            "\u001b[0;31mNameError\u001b[0m: name 'df' is not defined"
          ]
        }
      ]
    },
    {
      "cell_type": "markdown",
      "source": [
        "# 가장 최근 날짜로 부터 각 날짜의 일수를 구함 (.dt.days를 이용하여 일수를 주로 변환)"
      ],
      "metadata": {
        "id": "Q5SP7v7DnR0g"
      }
    },
    {
      "cell_type": "code",
      "source": [
        "df[\"week\"] = (df[\"t_dat\"].max() - df[\"t_dat\"]).dt.days // 7\n",
        "df[\"week\"].value_counts()"
      ],
      "metadata": {
        "id": "tjuAz13MnR3U"
      },
      "execution_count": null,
      "outputs": []
    },
    {
      "cell_type": "markdown",
      "source": [
        "# Label Encoder를 이용하여 고유한 고객 id를 추출 후 정수로 변환하여 ML 데이터 변환\n",
        "# LabelEncoder는 문자열(범주형 데이터)을 정수로 변환하는 데 사용"
      ],
      "metadata": {
        "id": "CoPwgr3oocxf"
      }
    },
    {
      "cell_type": "code",
      "source": [
        "from sklearn.preprocessing import LabelEncoder\n",
        "\n",
        "\n",
        "article_ids = np.concatenate([[\"placeholder\"], np.unique(df[\"article_id\"].values)])\n",
        "\n",
        "le_article = LabelEncoder()\n",
        "le_article.fit(article_ids)\n",
        "df[\"article_id\"] = le_article.transform(df[\"article_id\"])"
      ],
      "metadata": {
        "id": "TvW81gVooc0h"
      },
      "execution_count": null,
      "outputs": []
    },
    {
      "cell_type": "markdown",
      "source": [
        "# 과거 5주까지 데이터를 바탕으로 고객, 물품 간의 관계를 나타내는 훈련 데이터셋 생성"
      ],
      "metadata": {
        "id": "r0B0TQugpExL"
      }
    },
    {
      "cell_type": "code",
      "source": [
        "WEEK_HIST_MAX = 5\n",
        "\n",
        "def create_dataset(df, week):\n",
        "    hist_df = df[(df[\"week\"] > week) & (df[\"week\"] <= week + WEEK_HIST_MAX)]\n",
        "    hist_df = hist_df.groupby(\"customer_id\").agg({\"article_id\": list, \"week\": list}).reset_index() # customer_id로 그룹화 후 물품 id와 주를 리스트 형식으로 묶음\n",
        "    hist_df.rename(columns={\"week\": 'week_history'}, inplace=True) # week 이름을 week_history로 변경\n",
        "\n",
        "    target_df = df[df[\"week\"] == week] # 정확한 주를 선택하여 데이터 셋 제작\n",
        "    target_df = target_df.groupby(\"customer_id\").agg({\"article_id\": list}).reset_index() # customer_id로 그룹화 후 물품 id와 리스트 형식으로 묶음\n",
        "    target_df.rename(columns={\"article_id\": \"target\"}, inplace=True) # 물품 id를 target으로 변경\n",
        "    target_df[\"week\"] = week # 타겟 데이터에 선택한 week 추가\n",
        "\n",
        "    return target_df.merge(hist_df, on=\"customer_id\", how=\"left\") # 과거 주 데이터와 target 데이터 병합\n",
        "\n",
        "# val_weeks = [0]\n",
        "train_weeks = [i for i in range(WEEK_HIST_MAX)]\n",
        "\n",
        "# val_df = pd.concat([create_dataset(df, w) for w in val_weeks]).reset_index(drop=True)\n",
        "train_df = pd.concat([create_dataset(df, w) for w in train_weeks]).reset_index(drop=True)\n",
        "if is_debug:\n",
        "    train_df = train_df.sample(n = 10000)\n",
        "\n",
        "del df\n",
        "print(gc.collect())\n",
        "\n",
        "train_articles = train_df['customer_id'].unique().tolist() # 고유한 customer_id를 리스트로 만들고 train_articles에 저장\n",
        "train_df.shape"
      ],
      "metadata": {
        "id": "JPAL_cY5pFZK"
      },
      "execution_count": null,
      "outputs": []
    },
    {
      "cell_type": "markdown",
      "source": [
        "# HM Model를 이용하여 모델 생성\n",
        "\n",
        "## HM Model이란?\n",
        "  - PyTorch를 사용하여 만든 딥러닝 모델\n",
        "  - input : 고객 구매이력과 시간 정보(week)\n",
        "  - output : 각 물품에 추천 점수를 생성함(CNN 모델을 통해 물품에 대한 최종 추천 점수를 출력)"
      ],
      "metadata": {
        "id": "aZHynKBhtVFh"
      }
    },
    {
      "cell_type": "code",
      "source": [
        "from torch.utils.data import Dataset, DataLoader\n",
        "import torch\n",
        "from tqdm import tqdm\n",
        "\n",
        "class HMDataset(Dataset):\n",
        "    def __init__(self, df, seq_len, is_test=False):\n",
        "        self.df = df.reset_index(drop=True)\n",
        "        self.seq_len = seq_len\n",
        "        self.is_test = is_test\n",
        "\n",
        "    def __len__(self):\n",
        "        return self.df.shape[0]\n",
        "\n",
        "    def __getitem__(self, index):\n",
        "        row = self.df.iloc[index]\n",
        "\n",
        "        if self.is_test:\n",
        "            target = torch.zeros(2).float()\n",
        "        else:\n",
        "            target = torch.zeros(len(article_ids)).float()\n",
        "            for t in row.target:\n",
        "                target[t] = 1.0\n",
        "\n",
        "        article_hist = torch.zeros(self.seq_len).long()\n",
        "        week_hist = torch.ones(self.seq_len).float()\n",
        "\n",
        "\n",
        "        if isinstance(row.article_id, list):\n",
        "            if len(row.article_id) >= self.seq_len:\n",
        "                article_hist = torch.LongTensor(row.article_id[-self.seq_len:])\n",
        "                week_hist = (torch.LongTensor(row.week_history[-self.seq_len:]) - row.week)/WEEK_HIST_MAX/2\n",
        "            else:\n",
        "                article_hist[-len(row.article_id):] = torch.LongTensor(row.article_id)\n",
        "                week_hist[-len(row.article_id):] = (torch.LongTensor(row.week_history) - row.week)/WEEK_HIST_MAX/2\n",
        "\n",
        "        return article_hist, week_hist, target\n"
      ],
      "metadata": {
        "id": "D-oIwzYktVJK"
      },
      "execution_count": null,
      "outputs": []
    }
  ]
}