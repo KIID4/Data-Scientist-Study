{
  "metadata": {
    "kernelspec": {
      "language": "python",
      "display_name": "Python 3",
      "name": "python3"
    },
    "language_info": {
      "name": "python",
      "version": "3.10.14",
      "mimetype": "text/x-python",
      "codemirror_mode": {
        "name": "ipython",
        "version": 3
      },
      "pygments_lexer": "ipython3",
      "nbconvert_exporter": "python",
      "file_extension": ".py"
    },
    "kaggle": {
      "accelerator": "none",
      "dataSources": [
        {
          "sourceId": 31254,
          "databundleVersionId": 3103714,
          "sourceType": "competition"
        }
      ],
      "dockerImageVersionId": 30761,
      "isInternetEnabled": true,
      "language": "python",
      "sourceType": "notebook",
      "isGpuEnabled": false
    },
    "colab": {
      "provenance": []
    }
  },
  "nbformat_minor": 0,
  "nbformat": 4,
  "cells": [
    {
      "cell_type": "markdown",
      "source": [
        "# H&M 맞춤 패션 추천 H&M Personalized Fashion Recommendations)\n",
        "\n",
        "## 목표 : 고객의 이전 거래 데이터와 제품 메타 데이터를 기반으로 제품 추천 모델 제작"
      ],
      "metadata": {
        "id": "kuspHNPXd9mE"
      }
    },
    {
      "cell_type": "code",
      "source": [
        "# This Python 3 environment comes with many helpful analytics libraries installed\n",
        "# It is defined by the kaggle/python Docker image: https://github.com/kaggle/docker-python\n",
        "# For example, here's several helpful packages to load\n",
        "\n",
        "import numpy as np # linear algebra\n",
        "import pandas as pd # data processing, CSV file I/O (e.g. pd.read_csv)\n",
        "\n",
        "# Input data files are available in the read-only \"../input/\" directory\n",
        "# For example, running this (by clicking run or pressing Shift+Enter) will list all files under the input directory\n",
        "\n",
        "import os\n",
        "for dirname, _, filenames in os.walk('/kaggle/input'):\n",
        "    for filename in filenames:\n",
        "        a = 1\n",
        "\n",
        "# You can write up to 20GB to the current directory (/kaggle/working/) that gets preserved as output when you create a version using \"Save & Run All\"\n",
        "# You can also write temporary files to /kaggle/temp/, but they won't be saved outside of the current session"
      ],
      "metadata": {
        "_uuid": "8f2839f25d086af736a60e9eeb907d3b93b6e0e5",
        "_cell_guid": "b1076dfc-b9ad-4769-8c92-a6c4dae69d19",
        "execution": {
          "iopub.status.busy": "2024-09-13T15:00:37.523562Z",
          "iopub.execute_input": "2024-09-13T15:00:37.524117Z",
          "iopub.status.idle": "2024-09-13T15:02:03.718991Z",
          "shell.execute_reply.started": "2024-09-13T15:00:37.524058Z",
          "shell.execute_reply": "2024-09-13T15:02:03.717731Z"
        },
        "trusted": true,
        "id": "OuchBnwPd9mG"
      },
      "execution_count": null,
      "outputs": []
    },
    {
      "cell_type": "code",
      "source": [
        "import numpy as np\n",
        "import pandas as pd\n",
        "import os\n",
        "from tqdm import tqdm\n",
        "import matplotlib.pyplot as plt\n",
        "import seaborn as sns\n",
        "from wordcloud import WordCloud, STOPWORDS\n",
        "from datetime import datetime\n",
        "from PIL import Image"
      ],
      "metadata": {
        "execution": {
          "iopub.status.busy": "2024-09-13T15:03:26.302773Z",
          "iopub.execute_input": "2024-09-13T15:03:26.303206Z",
          "iopub.status.idle": "2024-09-13T15:03:27.365921Z",
          "shell.execute_reply.started": "2024-09-13T15:03:26.303159Z",
          "shell.execute_reply": "2024-09-13T15:03:27.364313Z"
        },
        "trusted": true,
        "id": "mQN2rTpcd9mG"
      },
      "execution_count": null,
      "outputs": []
    },
    {
      "cell_type": "code",
      "source": [
        "print(f\"files and folders: {os.listdir('/kaggle/input/h-and-m-personalized-fashion-recommendations/')}\")\n",
        "print(\"Subfolders in images folder: \", len(list(os.listdir(\"/kaggle/input/h-and-m-personalized-fashion-recommendations/images\"))))"
      ],
      "metadata": {
        "execution": {
          "iopub.status.busy": "2024-09-13T15:03:32.618009Z",
          "iopub.execute_input": "2024-09-13T15:03:32.618592Z",
          "iopub.status.idle": "2024-09-13T15:03:32.627959Z",
          "shell.execute_reply.started": "2024-09-13T15:03:32.618547Z",
          "shell.execute_reply": "2024-09-13T15:03:32.626423Z"
        },
        "trusted": true,
        "id": "OA5Wk2r_d9mG",
        "outputId": "cc5ebe77-e7ec-432e-8d59-d04eb8f74b3e"
      },
      "execution_count": null,
      "outputs": [
        {
          "name": "stdout",
          "text": "files and folders: ['sample_submission.csv', 'articles.csv', 'transactions_train.csv', 'images', 'customers.csv']\nSubfolders in images folder:  86\n",
          "output_type": "stream"
        }
      ]
    },
    {
      "cell_type": "markdown",
      "source": [
        "## os.walk : 해당 경로의 디렉토리 탐색\n",
        "## tqdm : 현재 코드 진행 상황을 시각적으로 표시"
      ],
      "metadata": {
        "id": "jFQY4YhQd9mH"
      }
    },
    {
      "cell_type": "code",
      "source": [
        "total_folders = total_files = 0\n",
        "folder_info = []\n",
        "images_names = []\n",
        "for base, dirs, files in tqdm(os.walk('/kaggle/input/h-and-m-personalized-fashion-recommendations/')):\n",
        "    for directories in dirs:\n",
        "        folder_info.append((directories, len(os.listdir(os.path.join(base, directories)))))\n",
        "        total_folders += 1\n",
        "    for _files in files:\n",
        "        total_files += 1\n",
        "        if len(_files.split(\".jpg\"))==2:\n",
        "            images_names.append(_files.split(\".jpg\")[0])"
      ],
      "metadata": {
        "execution": {
          "iopub.status.busy": "2024-09-13T15:15:33.905033Z",
          "iopub.execute_input": "2024-09-13T15:15:33.905472Z",
          "iopub.status.idle": "2024-09-13T15:16:40.010774Z",
          "shell.execute_reply.started": "2024-09-13T15:15:33.905428Z",
          "shell.execute_reply": "2024-09-13T15:16:40.009496Z"
        },
        "trusted": true,
        "id": "CdPHsUyKd9mH",
        "outputId": "6f88b70f-afa5-4b50-9789-54b05b8c9cca"
      },
      "execution_count": null,
      "outputs": [
        {
          "name": "stderr",
          "text": "88it [01:06,  1.33it/s]\n",
          "output_type": "stream"
        }
      ]
    },
    {
      "cell_type": "markdown",
      "source": [
        "# 데이터셋\n",
        "  - articles.csv : 제품 정보\n",
        "  - custumers.csv : 고객 정보\n",
        "  - transactions_train.csv : 거래 내역"
      ],
      "metadata": {
        "id": "Yu2b7rRAd9mH"
      }
    },
    {
      "cell_type": "code",
      "source": [
        "articles_df = pd.read_csv(\"/kaggle/input/h-and-m-personalized-fashion-recommendations/articles.csv\")\n",
        "customers_df = pd.read_csv(\"/kaggle/input/h-and-m-personalized-fashion-recommendations/customers.csv\")\n",
        "sample_submission_df = pd.read_csv(\"/kaggle/input/h-and-m-personalized-fashion-recommendations/sample_submission.csv\")\n",
        "transactions_train_df = pd.read_csv(\"/kaggle/input/h-and-m-personalized-fashion-recommendations/transactions_train.csv\")"
      ],
      "metadata": {
        "execution": {
          "iopub.status.busy": "2024-09-13T15:23:39.919059Z",
          "iopub.execute_input": "2024-09-13T15:23:39.919492Z",
          "iopub.status.idle": "2024-09-13T15:25:09.677427Z",
          "shell.execute_reply.started": "2024-09-13T15:23:39.919452Z",
          "shell.execute_reply": "2024-09-13T15:25:09.676050Z"
        },
        "trusted": true,
        "id": "6MkXoI8xd9mH"
      },
      "execution_count": null,
      "outputs": []
    },
    {
      "cell_type": "markdown",
      "source": [
        "## 제품 정보(articles)"
      ],
      "metadata": {
        "id": "p5x7P1XBd9mH"
      }
    },
    {
      "cell_type": "code",
      "source": [
        "articles_df.head()"
      ],
      "metadata": {
        "execution": {
          "iopub.status.busy": "2024-09-13T15:28:35.949322Z",
          "iopub.execute_input": "2024-09-13T15:28:35.950117Z",
          "iopub.status.idle": "2024-09-13T15:28:35.993863Z",
          "shell.execute_reply.started": "2024-09-13T15:28:35.950061Z",
          "shell.execute_reply": "2024-09-13T15:28:35.992628Z"
        },
        "trusted": true,
        "id": "VLKmbgsSd9mI",
        "outputId": "8e971ad6-64c2-4cf8-9efd-dbf086e449cf"
      },
      "execution_count": null,
      "outputs": [
        {
          "execution_count": 8,
          "output_type": "execute_result",
          "data": {
            "text/plain": "   article_id  product_code          prod_name  product_type_no  \\\n0   108775015        108775          Strap top              253   \n1   108775044        108775          Strap top              253   \n2   108775051        108775      Strap top (1)              253   \n3   110065001        110065  OP T-shirt (Idro)              306   \n4   110065002        110065  OP T-shirt (Idro)              306   \n\n  product_type_name  product_group_name  graphical_appearance_no  \\\n0          Vest top  Garment Upper body                  1010016   \n1          Vest top  Garment Upper body                  1010016   \n2          Vest top  Garment Upper body                  1010017   \n3               Bra           Underwear                  1010016   \n4               Bra           Underwear                  1010016   \n\n  graphical_appearance_name  colour_group_code colour_group_name  ...  \\\n0                     Solid                  9             Black  ...   \n1                     Solid                 10             White  ...   \n2                    Stripe                 11         Off White  ...   \n3                     Solid                  9             Black  ...   \n4                     Solid                 10             White  ...   \n\n   department_name index_code        index_name index_group_no  \\\n0     Jersey Basic          A        Ladieswear              1   \n1     Jersey Basic          A        Ladieswear              1   \n2     Jersey Basic          A        Ladieswear              1   \n3   Clean Lingerie          B  Lingeries/Tights              1   \n4   Clean Lingerie          B  Lingeries/Tights              1   \n\n   index_group_name section_no            section_name garment_group_no  \\\n0        Ladieswear         16  Womens Everyday Basics             1002   \n1        Ladieswear         16  Womens Everyday Basics             1002   \n2        Ladieswear         16  Womens Everyday Basics             1002   \n3        Ladieswear         61         Womens Lingerie             1017   \n4        Ladieswear         61         Womens Lingerie             1017   \n\n   garment_group_name                                        detail_desc  \n0        Jersey Basic            Jersey top with narrow shoulder straps.  \n1        Jersey Basic            Jersey top with narrow shoulder straps.  \n2        Jersey Basic            Jersey top with narrow shoulder straps.  \n3   Under-, Nightwear  Microfibre T-shirt bra with underwired, moulde...  \n4   Under-, Nightwear  Microfibre T-shirt bra with underwired, moulde...  \n\n[5 rows x 25 columns]",
            "text/html": "<div>\n<style scoped>\n    .dataframe tbody tr th:only-of-type {\n        vertical-align: middle;\n    }\n\n    .dataframe tbody tr th {\n        vertical-align: top;\n    }\n\n    .dataframe thead th {\n        text-align: right;\n    }\n</style>\n<table border=\"1\" class=\"dataframe\">\n  <thead>\n    <tr style=\"text-align: right;\">\n      <th></th>\n      <th>article_id</th>\n      <th>product_code</th>\n      <th>prod_name</th>\n      <th>product_type_no</th>\n      <th>product_type_name</th>\n      <th>product_group_name</th>\n      <th>graphical_appearance_no</th>\n      <th>graphical_appearance_name</th>\n      <th>colour_group_code</th>\n      <th>colour_group_name</th>\n      <th>...</th>\n      <th>department_name</th>\n      <th>index_code</th>\n      <th>index_name</th>\n      <th>index_group_no</th>\n      <th>index_group_name</th>\n      <th>section_no</th>\n      <th>section_name</th>\n      <th>garment_group_no</th>\n      <th>garment_group_name</th>\n      <th>detail_desc</th>\n    </tr>\n  </thead>\n  <tbody>\n    <tr>\n      <th>0</th>\n      <td>108775015</td>\n      <td>108775</td>\n      <td>Strap top</td>\n      <td>253</td>\n      <td>Vest top</td>\n      <td>Garment Upper body</td>\n      <td>1010016</td>\n      <td>Solid</td>\n      <td>9</td>\n      <td>Black</td>\n      <td>...</td>\n      <td>Jersey Basic</td>\n      <td>A</td>\n      <td>Ladieswear</td>\n      <td>1</td>\n      <td>Ladieswear</td>\n      <td>16</td>\n      <td>Womens Everyday Basics</td>\n      <td>1002</td>\n      <td>Jersey Basic</td>\n      <td>Jersey top with narrow shoulder straps.</td>\n    </tr>\n    <tr>\n      <th>1</th>\n      <td>108775044</td>\n      <td>108775</td>\n      <td>Strap top</td>\n      <td>253</td>\n      <td>Vest top</td>\n      <td>Garment Upper body</td>\n      <td>1010016</td>\n      <td>Solid</td>\n      <td>10</td>\n      <td>White</td>\n      <td>...</td>\n      <td>Jersey Basic</td>\n      <td>A</td>\n      <td>Ladieswear</td>\n      <td>1</td>\n      <td>Ladieswear</td>\n      <td>16</td>\n      <td>Womens Everyday Basics</td>\n      <td>1002</td>\n      <td>Jersey Basic</td>\n      <td>Jersey top with narrow shoulder straps.</td>\n    </tr>\n    <tr>\n      <th>2</th>\n      <td>108775051</td>\n      <td>108775</td>\n      <td>Strap top (1)</td>\n      <td>253</td>\n      <td>Vest top</td>\n      <td>Garment Upper body</td>\n      <td>1010017</td>\n      <td>Stripe</td>\n      <td>11</td>\n      <td>Off White</td>\n      <td>...</td>\n      <td>Jersey Basic</td>\n      <td>A</td>\n      <td>Ladieswear</td>\n      <td>1</td>\n      <td>Ladieswear</td>\n      <td>16</td>\n      <td>Womens Everyday Basics</td>\n      <td>1002</td>\n      <td>Jersey Basic</td>\n      <td>Jersey top with narrow shoulder straps.</td>\n    </tr>\n    <tr>\n      <th>3</th>\n      <td>110065001</td>\n      <td>110065</td>\n      <td>OP T-shirt (Idro)</td>\n      <td>306</td>\n      <td>Bra</td>\n      <td>Underwear</td>\n      <td>1010016</td>\n      <td>Solid</td>\n      <td>9</td>\n      <td>Black</td>\n      <td>...</td>\n      <td>Clean Lingerie</td>\n      <td>B</td>\n      <td>Lingeries/Tights</td>\n      <td>1</td>\n      <td>Ladieswear</td>\n      <td>61</td>\n      <td>Womens Lingerie</td>\n      <td>1017</td>\n      <td>Under-, Nightwear</td>\n      <td>Microfibre T-shirt bra with underwired, moulde...</td>\n    </tr>\n    <tr>\n      <th>4</th>\n      <td>110065002</td>\n      <td>110065</td>\n      <td>OP T-shirt (Idro)</td>\n      <td>306</td>\n      <td>Bra</td>\n      <td>Underwear</td>\n      <td>1010016</td>\n      <td>Solid</td>\n      <td>10</td>\n      <td>White</td>\n      <td>...</td>\n      <td>Clean Lingerie</td>\n      <td>B</td>\n      <td>Lingeries/Tights</td>\n      <td>1</td>\n      <td>Ladieswear</td>\n      <td>61</td>\n      <td>Womens Lingerie</td>\n      <td>1017</td>\n      <td>Under-, Nightwear</td>\n      <td>Microfibre T-shirt bra with underwired, moulde...</td>\n    </tr>\n  </tbody>\n</table>\n<p>5 rows × 25 columns</p>\n</div>"
          },
          "metadata": {}
        }
      ]
    },
    {
      "cell_type": "markdown",
      "source": [
        "## articles feature attribute\n",
        "\n",
        "\n",
        "#### article_id : 제품의 고유번호\n",
        "#### product_code / prod_name : 제품 번호와 제품 이름\n",
        "#### product_type_no / product_type_name : 제품 세부 종류 번호 및 유형 (스니커즈, 레깅스)\n",
        "#### product_group_name : 제품 카테고리(양말, 신발)\n",
        "#### graphical_appearance_no / graphical_appearance_name : 제품 무늬 번호 및 무늬(스트라이프, 점)\n",
        "#### colour_group_code / colour_group_name : 제품 색상 번호 및 색상\n",
        "#### perceived_colour_value_id / perceived_colour_value_name : 제품의 추가된 색상 번호 및 이름\n",
        "#### perceived_colour_master_id / perceived_colour_master_name : 위와 동일\n",
        "#### department_no / department_name : 제품 브랜드 번호 및 이름(아디다스, 나이키)\n",
        "#### index_code / index_name : unknown\n",
        "#### index_group_no / index_group_name : 제품의 적정 대상 별 카테고리 번호 및 카테고리(여성복, 남성복, 아동복)\n",
        "#### section_no / section_name : 제품별 세부 카테고리의 번호 및 이름(남성용 스포츠 의류, 아동용 스포츠 의류)\n",
        "#### garment_group_no / garment_group_name : 제품별 고유한 카테고리 번호 및 이름(데님 바지, 반바지)\n",
        "#### detail_desc : 제품별 세부 설명"
      ],
      "metadata": {
        "id": "Cu6FyU_md9mI"
      }
    },
    {
      "cell_type": "code",
      "source": [
        "articles_df['garment_group_name'].unique()"
      ],
      "metadata": {
        "execution": {
          "iopub.status.busy": "2024-09-13T16:57:27.650871Z",
          "iopub.execute_input": "2024-09-13T16:57:27.651321Z",
          "iopub.status.idle": "2024-09-13T16:57:27.670142Z",
          "shell.execute_reply.started": "2024-09-13T16:57:27.651278Z",
          "shell.execute_reply": "2024-09-13T16:57:27.668763Z"
        },
        "trusted": true,
        "id": "TxA8_KVsd9mI",
        "outputId": "4a6f1d28-45ad-4b44-a48a-eb36f6a22ea0"
      },
      "execution_count": null,
      "outputs": [
        {
          "execution_count": 50,
          "output_type": "execute_result",
          "data": {
            "text/plain": "array(['Jersey Basic', 'Under-, Nightwear', 'Socks and Tights',\n       'Jersey Fancy', 'Accessories', 'Trousers Denim', 'Outdoor',\n       'Shoes', 'Swimwear', 'Knitwear', 'Shirts', 'Trousers', 'Dressed',\n       'Shorts', 'Dresses Ladies', 'Skirts', 'Special Offers', 'Blouses',\n       'Unknown', 'Woven/Jersey/Knitted mix Baby', 'Dresses/Skirts girls'],\n      dtype=object)"
          },
          "metadata": {}
        }
      ]
    },
    {
      "cell_type": "code",
      "source": [
        "articles_df.info()"
      ],
      "metadata": {
        "execution": {
          "iopub.status.busy": "2024-09-13T15:32:06.851083Z",
          "iopub.execute_input": "2024-09-13T15:32:06.851538Z",
          "iopub.status.idle": "2024-09-13T15:32:07.049383Z",
          "shell.execute_reply.started": "2024-09-13T15:32:06.851498Z",
          "shell.execute_reply": "2024-09-13T15:32:07.048200Z"
        },
        "trusted": true,
        "id": "P2g2gk-Vd9mI",
        "outputId": "f50f4710-23e9-49b0-9c11-2e25e7e0bf75"
      },
      "execution_count": null,
      "outputs": [
        {
          "name": "stdout",
          "text": "<class 'pandas.core.frame.DataFrame'>\nRangeIndex: 105542 entries, 0 to 105541\nData columns (total 25 columns):\n #   Column                        Non-Null Count   Dtype \n---  ------                        --------------   ----- \n 0   article_id                    105542 non-null  int64 \n 1   product_code                  105542 non-null  int64 \n 2   prod_name                     105542 non-null  object\n 3   product_type_no               105542 non-null  int64 \n 4   product_type_name             105542 non-null  object\n 5   product_group_name            105542 non-null  object\n 6   graphical_appearance_no       105542 non-null  int64 \n 7   graphical_appearance_name     105542 non-null  object\n 8   colour_group_code             105542 non-null  int64 \n 9   colour_group_name             105542 non-null  object\n 10  perceived_colour_value_id     105542 non-null  int64 \n 11  perceived_colour_value_name   105542 non-null  object\n 12  perceived_colour_master_id    105542 non-null  int64 \n 13  perceived_colour_master_name  105542 non-null  object\n 14  department_no                 105542 non-null  int64 \n 15  department_name               105542 non-null  object\n 16  index_code                    105542 non-null  object\n 17  index_name                    105542 non-null  object\n 18  index_group_no                105542 non-null  int64 \n 19  index_group_name              105542 non-null  object\n 20  section_no                    105542 non-null  int64 \n 21  section_name                  105542 non-null  object\n 22  garment_group_no              105542 non-null  int64 \n 23  garment_group_name            105542 non-null  object\n 24  detail_desc                   105126 non-null  object\ndtypes: int64(11), object(14)\nmemory usage: 20.1+ MB\n",
          "output_type": "stream"
        }
      ]
    },
    {
      "cell_type": "markdown",
      "source": [
        "## 고객 정보(customer)"
      ],
      "metadata": {
        "id": "MB9yG-Z6d9mI"
      }
    },
    {
      "cell_type": "code",
      "source": [
        "customers_df.head()"
      ],
      "metadata": {
        "execution": {
          "iopub.status.busy": "2024-09-13T15:51:46.787711Z",
          "iopub.execute_input": "2024-09-13T15:51:46.788192Z",
          "iopub.status.idle": "2024-09-13T15:51:46.806029Z",
          "shell.execute_reply.started": "2024-09-13T15:51:46.788128Z",
          "shell.execute_reply": "2024-09-13T15:51:46.804794Z"
        },
        "trusted": true,
        "id": "jjGLJxYzd9mI",
        "outputId": "0516945d-d6f6-41ab-8f38-823359724a0b"
      },
      "execution_count": null,
      "outputs": [
        {
          "execution_count": 17,
          "output_type": "execute_result",
          "data": {
            "text/plain": "                                         customer_id   FN  Active  \\\n0  00000dbacae5abe5e23885899a1fa44253a17956c6d1c3...  NaN     NaN   \n1  0000423b00ade91418cceaf3b26c6af3dd342b51fd051e...  NaN     NaN   \n2  000058a12d5b43e67d225668fa1f8d618c13dc232df0ca...  NaN     NaN   \n3  00005ca1c9ed5f5146b52ac8639a40ca9d57aeff4d1bd2...  NaN     NaN   \n4  00006413d8573cd20ed7128e53b7b13819fe5cfc2d801f...  1.0     1.0   \n\n  club_member_status fashion_news_frequency   age  \\\n0             ACTIVE                   NONE  49.0   \n1             ACTIVE                   NONE  25.0   \n2             ACTIVE                   NONE  24.0   \n3             ACTIVE                   NONE  54.0   \n4             ACTIVE              Regularly  52.0   \n\n                                         postal_code  \n0  52043ee2162cf5aa7ee79974281641c6f11a68d276429a...  \n1  2973abc54daa8a5f8ccfe9362140c63247c5eee03f1d93...  \n2  64f17e6a330a85798e4998f62d0930d14db8db1c054af6...  \n3  5d36574f52495e81f019b680c843c443bd343d5ca5b1c2...  \n4  25fa5ddee9aac01b35208d01736e57942317d756b32ddd...  ",
            "text/html": "<div>\n<style scoped>\n    .dataframe tbody tr th:only-of-type {\n        vertical-align: middle;\n    }\n\n    .dataframe tbody tr th {\n        vertical-align: top;\n    }\n\n    .dataframe thead th {\n        text-align: right;\n    }\n</style>\n<table border=\"1\" class=\"dataframe\">\n  <thead>\n    <tr style=\"text-align: right;\">\n      <th></th>\n      <th>customer_id</th>\n      <th>FN</th>\n      <th>Active</th>\n      <th>club_member_status</th>\n      <th>fashion_news_frequency</th>\n      <th>age</th>\n      <th>postal_code</th>\n    </tr>\n  </thead>\n  <tbody>\n    <tr>\n      <th>0</th>\n      <td>00000dbacae5abe5e23885899a1fa44253a17956c6d1c3...</td>\n      <td>NaN</td>\n      <td>NaN</td>\n      <td>ACTIVE</td>\n      <td>NONE</td>\n      <td>49.0</td>\n      <td>52043ee2162cf5aa7ee79974281641c6f11a68d276429a...</td>\n    </tr>\n    <tr>\n      <th>1</th>\n      <td>0000423b00ade91418cceaf3b26c6af3dd342b51fd051e...</td>\n      <td>NaN</td>\n      <td>NaN</td>\n      <td>ACTIVE</td>\n      <td>NONE</td>\n      <td>25.0</td>\n      <td>2973abc54daa8a5f8ccfe9362140c63247c5eee03f1d93...</td>\n    </tr>\n    <tr>\n      <th>2</th>\n      <td>000058a12d5b43e67d225668fa1f8d618c13dc232df0ca...</td>\n      <td>NaN</td>\n      <td>NaN</td>\n      <td>ACTIVE</td>\n      <td>NONE</td>\n      <td>24.0</td>\n      <td>64f17e6a330a85798e4998f62d0930d14db8db1c054af6...</td>\n    </tr>\n    <tr>\n      <th>3</th>\n      <td>00005ca1c9ed5f5146b52ac8639a40ca9d57aeff4d1bd2...</td>\n      <td>NaN</td>\n      <td>NaN</td>\n      <td>ACTIVE</td>\n      <td>NONE</td>\n      <td>54.0</td>\n      <td>5d36574f52495e81f019b680c843c443bd343d5ca5b1c2...</td>\n    </tr>\n    <tr>\n      <th>4</th>\n      <td>00006413d8573cd20ed7128e53b7b13819fe5cfc2d801f...</td>\n      <td>1.0</td>\n      <td>1.0</td>\n      <td>ACTIVE</td>\n      <td>Regularly</td>\n      <td>52.0</td>\n      <td>25fa5ddee9aac01b35208d01736e57942317d756b32ddd...</td>\n    </tr>\n  </tbody>\n</table>\n</div>"
          },
          "metadata": {}
        }
      ]
    },
    {
      "cell_type": "markdown",
      "source": [
        "## Customer feature attribute\n",
        "\n",
        "#### customer_id : 고객 번호\n",
        "#### FN : unknown(0, 1)\n",
        "#### Active : 현재 활동 여부(0, 1)\n",
        "#### club_member_status : 회원 가입 여부(회원으로 활동중, 회원 정보 누락, 회원가입 이전 상태, 회원가입 탈퇴)\n",
        "#### fashion_news_frequency : H&M 회사의 광고성 메세지 받는 빈도수\n",
        "#### age : 나이\n",
        "#### postal_code : 우편 번호"
      ],
      "metadata": {
        "id": "X0-7lhnnd9mI"
      }
    },
    {
      "cell_type": "code",
      "source": [
        "customers_df['age'].unique()"
      ],
      "metadata": {
        "execution": {
          "iopub.status.busy": "2024-09-13T17:13:08.281334Z",
          "iopub.execute_input": "2024-09-13T17:13:08.281842Z",
          "iopub.status.idle": "2024-09-13T17:13:08.310203Z",
          "shell.execute_reply.started": "2024-09-13T17:13:08.281797Z",
          "shell.execute_reply": "2024-09-13T17:13:08.308948Z"
        },
        "trusted": true,
        "id": "bGhfyaANd9mJ",
        "outputId": "59aae972-7617-4cbf-eba1-b81a170add67"
      },
      "execution_count": null,
      "outputs": [
        {
          "execution_count": 56,
          "output_type": "execute_result",
          "data": {
            "text/plain": "array([49., 25., 24., 54., 52., nan, 20., 32., 29., 31., 56., 75., 41.,\n       27., 30., 48., 35., 22., 40., 38., 45., 68., 55., 19., 60., 44.,\n       21., 26., 28., 53., 33., 17., 23., 51., 18., 34., 57., 47., 70.,\n       50., 63., 58., 43., 67., 72., 42., 39., 79., 71., 59., 36., 62.,\n       37., 46., 73., 64., 74., 61., 85., 69., 76., 66., 65., 82., 16.,\n       90., 80., 78., 81., 84., 77., 97., 89., 83., 98., 88., 86., 87.,\n       93., 91., 99., 96., 94., 92., 95.])"
          },
          "metadata": {}
        }
      ]
    },
    {
      "cell_type": "code",
      "source": [
        "customers_df.info()"
      ],
      "metadata": {
        "execution": {
          "iopub.status.busy": "2024-09-13T15:54:29.980683Z",
          "iopub.execute_input": "2024-09-13T15:54:29.981202Z",
          "iopub.status.idle": "2024-09-13T15:54:30.616050Z",
          "shell.execute_reply.started": "2024-09-13T15:54:29.981155Z",
          "shell.execute_reply": "2024-09-13T15:54:30.614881Z"
        },
        "trusted": true,
        "id": "5Sd44uwhd9mJ",
        "outputId": "b757e098-e2a7-46c5-c5e1-906043ace168"
      },
      "execution_count": null,
      "outputs": [
        {
          "name": "stdout",
          "text": "<class 'pandas.core.frame.DataFrame'>\nRangeIndex: 1371980 entries, 0 to 1371979\nData columns (total 7 columns):\n #   Column                  Non-Null Count    Dtype  \n---  ------                  --------------    -----  \n 0   customer_id             1371980 non-null  object \n 1   FN                      476930 non-null   float64\n 2   Active                  464404 non-null   float64\n 3   club_member_status      1365918 non-null  object \n 4   fashion_news_frequency  1355969 non-null  object \n 5   age                     1356119 non-null  float64\n 6   postal_code             1371980 non-null  object \ndtypes: float64(3), object(4)\nmemory usage: 73.3+ MB\n",
          "output_type": "stream"
        }
      ]
    },
    {
      "cell_type": "markdown",
      "source": [
        "## 거래 내역 (transactions_train)"
      ],
      "metadata": {
        "id": "OhJYlujCd9mJ"
      }
    },
    {
      "cell_type": "code",
      "source": [
        "transactions_train_df.head()"
      ],
      "metadata": {
        "execution": {
          "iopub.status.busy": "2024-09-13T15:55:15.437925Z",
          "iopub.execute_input": "2024-09-13T15:55:15.438415Z",
          "iopub.status.idle": "2024-09-13T15:55:15.458571Z",
          "shell.execute_reply.started": "2024-09-13T15:55:15.438369Z",
          "shell.execute_reply": "2024-09-13T15:55:15.456199Z"
        },
        "trusted": true,
        "id": "M8tTZfagd9mJ",
        "outputId": "1a53a88a-fd0f-4a70-ddaf-48c340c59b72"
      },
      "execution_count": null,
      "outputs": [
        {
          "execution_count": 22,
          "output_type": "execute_result",
          "data": {
            "text/plain": "        t_dat                                        customer_id  article_id  \\\n0  2018-09-20  000058a12d5b43e67d225668fa1f8d618c13dc232df0ca...   663713001   \n1  2018-09-20  000058a12d5b43e67d225668fa1f8d618c13dc232df0ca...   541518023   \n2  2018-09-20  00007d2de826758b65a93dd24ce629ed66842531df6699...   505221004   \n3  2018-09-20  00007d2de826758b65a93dd24ce629ed66842531df6699...   685687003   \n4  2018-09-20  00007d2de826758b65a93dd24ce629ed66842531df6699...   685687004   \n\n      price  sales_channel_id  \n0  0.050831                 2  \n1  0.030492                 2  \n2  0.015237                 2  \n3  0.016932                 2  \n4  0.016932                 2  ",
            "text/html": "<div>\n<style scoped>\n    .dataframe tbody tr th:only-of-type {\n        vertical-align: middle;\n    }\n\n    .dataframe tbody tr th {\n        vertical-align: top;\n    }\n\n    .dataframe thead th {\n        text-align: right;\n    }\n</style>\n<table border=\"1\" class=\"dataframe\">\n  <thead>\n    <tr style=\"text-align: right;\">\n      <th></th>\n      <th>t_dat</th>\n      <th>customer_id</th>\n      <th>article_id</th>\n      <th>price</th>\n      <th>sales_channel_id</th>\n    </tr>\n  </thead>\n  <tbody>\n    <tr>\n      <th>0</th>\n      <td>2018-09-20</td>\n      <td>000058a12d5b43e67d225668fa1f8d618c13dc232df0ca...</td>\n      <td>663713001</td>\n      <td>0.050831</td>\n      <td>2</td>\n    </tr>\n    <tr>\n      <th>1</th>\n      <td>2018-09-20</td>\n      <td>000058a12d5b43e67d225668fa1f8d618c13dc232df0ca...</td>\n      <td>541518023</td>\n      <td>0.030492</td>\n      <td>2</td>\n    </tr>\n    <tr>\n      <th>2</th>\n      <td>2018-09-20</td>\n      <td>00007d2de826758b65a93dd24ce629ed66842531df6699...</td>\n      <td>505221004</td>\n      <td>0.015237</td>\n      <td>2</td>\n    </tr>\n    <tr>\n      <th>3</th>\n      <td>2018-09-20</td>\n      <td>00007d2de826758b65a93dd24ce629ed66842531df6699...</td>\n      <td>685687003</td>\n      <td>0.016932</td>\n      <td>2</td>\n    </tr>\n    <tr>\n      <th>4</th>\n      <td>2018-09-20</td>\n      <td>00007d2de826758b65a93dd24ce629ed66842531df6699...</td>\n      <td>685687004</td>\n      <td>0.016932</td>\n      <td>2</td>\n    </tr>\n  </tbody>\n</table>\n</div>"
          },
          "metadata": {}
        }
      ]
    },
    {
      "cell_type": "markdown",
      "source": [
        "## 거래 내역 feature attribute\n",
        "\n",
        "#### t_dat : 거래 일시\n",
        "#### customer_id : 고객 고유 번호\n",
        "#### article_id : 제품 고유 번호\n",
        "#### price : 가격\n",
        "#### sales_channel_id : unknown"
      ],
      "metadata": {
        "id": "AZxgG0Jtd9mJ"
      }
    },
    {
      "cell_type": "code",
      "source": [
        "transactions_train_df.info()"
      ],
      "metadata": {
        "execution": {
          "iopub.status.busy": "2024-09-13T15:55:31.875100Z",
          "iopub.execute_input": "2024-09-13T15:55:31.875610Z",
          "iopub.status.idle": "2024-09-13T15:55:31.888311Z",
          "shell.execute_reply.started": "2024-09-13T15:55:31.875558Z",
          "shell.execute_reply": "2024-09-13T15:55:31.886797Z"
        },
        "trusted": true,
        "id": "92Ze1EY3d9mJ",
        "outputId": "d3fa8c1d-50b5-42e6-d399-d4bfd4b5de20"
      },
      "execution_count": null,
      "outputs": [
        {
          "name": "stdout",
          "text": "<class 'pandas.core.frame.DataFrame'>\nRangeIndex: 31788324 entries, 0 to 31788323\nData columns (total 5 columns):\n #   Column            Dtype  \n---  ------            -----  \n 0   t_dat             object \n 1   customer_id       object \n 2   article_id        int64  \n 3   price             float64\n 4   sales_channel_id  int64  \ndtypes: float64(1), int64(2), object(2)\nmemory usage: 1.2+ GB\n",
          "output_type": "stream"
        }
      ]
    },
    {
      "cell_type": "markdown",
      "source": [
        "# 각 데이터프레임 결측치 확인\n",
        "\n",
        "## missing_data : 결측치를 확인하는 메소드\n",
        "- total : 각 컬럼의 결측치를 합산하여 내림차순으로 정렬\n",
        "- percent : 각 컬럼의 결측치 비율 계산\n",
        "- concat 메소드 이용 데이터 프레임 제작"
      ],
      "metadata": {
        "id": "2ID5FDZpd9mJ"
      }
    },
    {
      "cell_type": "code",
      "source": [
        "def missing_data(data):\n",
        "    total = data.isnull().sum().sort_values(ascending = False)\n",
        "    percent = (data.isnull().sum()/data.isnull().count()*100).sort_values(ascending = False)\n",
        "    return pd.concat([total, percent], axis=1, keys=['Total', 'Percent'])"
      ],
      "metadata": {
        "execution": {
          "iopub.status.busy": "2024-09-13T15:36:44.217561Z",
          "iopub.execute_input": "2024-09-13T15:36:44.218064Z",
          "iopub.status.idle": "2024-09-13T15:36:44.226260Z",
          "shell.execute_reply.started": "2024-09-13T15:36:44.218015Z",
          "shell.execute_reply": "2024-09-13T15:36:44.224386Z"
        },
        "trusted": true,
        "id": "2nqy_3vod9mJ"
      },
      "execution_count": null,
      "outputs": []
    },
    {
      "cell_type": "markdown",
      "source": [
        "# 제품 정보의 detail_desc 열에서 결측치가 발생됨(416개)"
      ],
      "metadata": {
        "id": "wOdoW8n2d9mJ"
      }
    },
    {
      "cell_type": "code",
      "source": [
        "missing_data(articles_df)"
      ],
      "metadata": {
        "execution": {
          "iopub.status.busy": "2024-09-13T15:36:52.457394Z",
          "iopub.execute_input": "2024-09-13T15:36:52.457892Z",
          "iopub.status.idle": "2024-09-13T15:36:52.964395Z",
          "shell.execute_reply.started": "2024-09-13T15:36:52.457846Z",
          "shell.execute_reply": "2024-09-13T15:36:52.963116Z"
        },
        "trusted": true,
        "id": "jwdJtK7kd9mJ",
        "outputId": "b3030fa0-ea56-4f59-f83a-420f81fbbb08"
      },
      "execution_count": null,
      "outputs": [
        {
          "execution_count": 16,
          "output_type": "execute_result",
          "data": {
            "text/plain": "                              Total   Percent\ndetail_desc                     416  0.394156\nperceived_colour_master_name      0  0.000000\ngarment_group_name                0  0.000000\ngarment_group_no                  0  0.000000\nsection_name                      0  0.000000\nsection_no                        0  0.000000\nindex_group_name                  0  0.000000\nindex_group_no                    0  0.000000\nindex_name                        0  0.000000\nindex_code                        0  0.000000\ndepartment_name                   0  0.000000\ndepartment_no                     0  0.000000\narticle_id                        0  0.000000\nproduct_code                      0  0.000000\nperceived_colour_value_name       0  0.000000\nperceived_colour_value_id         0  0.000000\ncolour_group_name                 0  0.000000\ncolour_group_code                 0  0.000000\ngraphical_appearance_name         0  0.000000\ngraphical_appearance_no           0  0.000000\nproduct_group_name                0  0.000000\nproduct_type_name                 0  0.000000\nproduct_type_no                   0  0.000000\nprod_name                         0  0.000000\nperceived_colour_master_id        0  0.000000",
            "text/html": "<div>\n<style scoped>\n    .dataframe tbody tr th:only-of-type {\n        vertical-align: middle;\n    }\n\n    .dataframe tbody tr th {\n        vertical-align: top;\n    }\n\n    .dataframe thead th {\n        text-align: right;\n    }\n</style>\n<table border=\"1\" class=\"dataframe\">\n  <thead>\n    <tr style=\"text-align: right;\">\n      <th></th>\n      <th>Total</th>\n      <th>Percent</th>\n    </tr>\n  </thead>\n  <tbody>\n    <tr>\n      <th>detail_desc</th>\n      <td>416</td>\n      <td>0.394156</td>\n    </tr>\n    <tr>\n      <th>perceived_colour_master_name</th>\n      <td>0</td>\n      <td>0.000000</td>\n    </tr>\n    <tr>\n      <th>garment_group_name</th>\n      <td>0</td>\n      <td>0.000000</td>\n    </tr>\n    <tr>\n      <th>garment_group_no</th>\n      <td>0</td>\n      <td>0.000000</td>\n    </tr>\n    <tr>\n      <th>section_name</th>\n      <td>0</td>\n      <td>0.000000</td>\n    </tr>\n    <tr>\n      <th>section_no</th>\n      <td>0</td>\n      <td>0.000000</td>\n    </tr>\n    <tr>\n      <th>index_group_name</th>\n      <td>0</td>\n      <td>0.000000</td>\n    </tr>\n    <tr>\n      <th>index_group_no</th>\n      <td>0</td>\n      <td>0.000000</td>\n    </tr>\n    <tr>\n      <th>index_name</th>\n      <td>0</td>\n      <td>0.000000</td>\n    </tr>\n    <tr>\n      <th>index_code</th>\n      <td>0</td>\n      <td>0.000000</td>\n    </tr>\n    <tr>\n      <th>department_name</th>\n      <td>0</td>\n      <td>0.000000</td>\n    </tr>\n    <tr>\n      <th>department_no</th>\n      <td>0</td>\n      <td>0.000000</td>\n    </tr>\n    <tr>\n      <th>article_id</th>\n      <td>0</td>\n      <td>0.000000</td>\n    </tr>\n    <tr>\n      <th>product_code</th>\n      <td>0</td>\n      <td>0.000000</td>\n    </tr>\n    <tr>\n      <th>perceived_colour_value_name</th>\n      <td>0</td>\n      <td>0.000000</td>\n    </tr>\n    <tr>\n      <th>perceived_colour_value_id</th>\n      <td>0</td>\n      <td>0.000000</td>\n    </tr>\n    <tr>\n      <th>colour_group_name</th>\n      <td>0</td>\n      <td>0.000000</td>\n    </tr>\n    <tr>\n      <th>colour_group_code</th>\n      <td>0</td>\n      <td>0.000000</td>\n    </tr>\n    <tr>\n      <th>graphical_appearance_name</th>\n      <td>0</td>\n      <td>0.000000</td>\n    </tr>\n    <tr>\n      <th>graphical_appearance_no</th>\n      <td>0</td>\n      <td>0.000000</td>\n    </tr>\n    <tr>\n      <th>product_group_name</th>\n      <td>0</td>\n      <td>0.000000</td>\n    </tr>\n    <tr>\n      <th>product_type_name</th>\n      <td>0</td>\n      <td>0.000000</td>\n    </tr>\n    <tr>\n      <th>product_type_no</th>\n      <td>0</td>\n      <td>0.000000</td>\n    </tr>\n    <tr>\n      <th>prod_name</th>\n      <td>0</td>\n      <td>0.000000</td>\n    </tr>\n    <tr>\n      <th>perceived_colour_master_id</th>\n      <td>0</td>\n      <td>0.000000</td>\n    </tr>\n  </tbody>\n</table>\n</div>"
          },
          "metadata": {}
        }
      ]
    },
    {
      "cell_type": "markdown",
      "source": [
        "# 고객 정보의 특정 컬럼에서 결측치 발생"
      ],
      "metadata": {
        "id": "9Kjp1Gqwd9mJ"
      }
    },
    {
      "cell_type": "code",
      "source": [
        "missing_data(customers_df)"
      ],
      "metadata": {
        "execution": {
          "iopub.status.busy": "2024-09-13T15:52:33.154719Z",
          "iopub.execute_input": "2024-09-13T15:52:33.155207Z",
          "iopub.status.idle": "2024-09-13T15:52:35.016377Z",
          "shell.execute_reply.started": "2024-09-13T15:52:33.155162Z",
          "shell.execute_reply": "2024-09-13T15:52:35.015066Z"
        },
        "trusted": true,
        "id": "leEAdCiTd9mK",
        "outputId": "7a44bc6c-3eab-4c65-bbe9-6185ccc00e80"
      },
      "execution_count": null,
      "outputs": [
        {
          "execution_count": 19,
          "output_type": "execute_result",
          "data": {
            "text/plain": "                         Total    Percent\nActive                  907576  66.150819\nFN                      895050  65.237831\nfashion_news_frequency   16011   1.167000\nage                      15861   1.156066\nclub_member_status        6062   0.441843\ncustomer_id                  0   0.000000\npostal_code                  0   0.000000",
            "text/html": "<div>\n<style scoped>\n    .dataframe tbody tr th:only-of-type {\n        vertical-align: middle;\n    }\n\n    .dataframe tbody tr th {\n        vertical-align: top;\n    }\n\n    .dataframe thead th {\n        text-align: right;\n    }\n</style>\n<table border=\"1\" class=\"dataframe\">\n  <thead>\n    <tr style=\"text-align: right;\">\n      <th></th>\n      <th>Total</th>\n      <th>Percent</th>\n    </tr>\n  </thead>\n  <tbody>\n    <tr>\n      <th>Active</th>\n      <td>907576</td>\n      <td>66.150819</td>\n    </tr>\n    <tr>\n      <th>FN</th>\n      <td>895050</td>\n      <td>65.237831</td>\n    </tr>\n    <tr>\n      <th>fashion_news_frequency</th>\n      <td>16011</td>\n      <td>1.167000</td>\n    </tr>\n    <tr>\n      <th>age</th>\n      <td>15861</td>\n      <td>1.156066</td>\n    </tr>\n    <tr>\n      <th>club_member_status</th>\n      <td>6062</td>\n      <td>0.441843</td>\n    </tr>\n    <tr>\n      <th>customer_id</th>\n      <td>0</td>\n      <td>0.000000</td>\n    </tr>\n    <tr>\n      <th>postal_code</th>\n      <td>0</td>\n      <td>0.000000</td>\n    </tr>\n  </tbody>\n</table>\n</div>"
          },
          "metadata": {}
        }
      ]
    },
    {
      "cell_type": "markdown",
      "source": [
        "# 거래 내역에서의 결측치 발생 X"
      ],
      "metadata": {
        "id": "2BqRNPYZd9mK"
      }
    },
    {
      "cell_type": "code",
      "source": [
        "missing_data(transactions_train_df)"
      ],
      "metadata": {
        "execution": {
          "iopub.status.busy": "2024-09-13T16:00:39.851633Z",
          "iopub.execute_input": "2024-09-13T16:00:39.852371Z",
          "iopub.status.idle": "2024-09-13T16:01:01.132385Z",
          "shell.execute_reply.started": "2024-09-13T16:00:39.852311Z",
          "shell.execute_reply": "2024-09-13T16:01:01.131047Z"
        },
        "trusted": true,
        "id": "IaU1YpMvd9mK",
        "outputId": "aac2503c-9c1c-49cb-b3bb-187a318f73d4"
      },
      "execution_count": null,
      "outputs": [
        {
          "execution_count": 24,
          "output_type": "execute_result",
          "data": {
            "text/plain": "                  Total  Percent\nt_dat                 0      0.0\ncustomer_id           0      0.0\narticle_id            0      0.0\nprice                 0      0.0\nsales_channel_id      0      0.0",
            "text/html": "<div>\n<style scoped>\n    .dataframe tbody tr th:only-of-type {\n        vertical-align: middle;\n    }\n\n    .dataframe tbody tr th {\n        vertical-align: top;\n    }\n\n    .dataframe thead th {\n        text-align: right;\n    }\n</style>\n<table border=\"1\" class=\"dataframe\">\n  <thead>\n    <tr style=\"text-align: right;\">\n      <th></th>\n      <th>Total</th>\n      <th>Percent</th>\n    </tr>\n  </thead>\n  <tbody>\n    <tr>\n      <th>t_dat</th>\n      <td>0</td>\n      <td>0.0</td>\n    </tr>\n    <tr>\n      <th>customer_id</th>\n      <td>0</td>\n      <td>0.0</td>\n    </tr>\n    <tr>\n      <th>article_id</th>\n      <td>0</td>\n      <td>0.0</td>\n    </tr>\n    <tr>\n      <th>price</th>\n      <td>0</td>\n      <td>0.0</td>\n    </tr>\n    <tr>\n      <th>sales_channel_id</th>\n      <td>0</td>\n      <td>0.0</td>\n    </tr>\n  </tbody>\n</table>\n</div>"
          },
          "metadata": {}
        }
      ]
    },
    {
      "cell_type": "markdown",
      "source": [
        "### 제품 정보와 고객정보에는 결측치가 존재함"
      ],
      "metadata": {
        "id": "lSQIfCi5d9mK"
      }
    },
    {
      "cell_type": "markdown",
      "source": [
        "# 각 데이터 프레임 고유한 값\n",
        "\n",
        "## unique_values : 각 데이터 프레임의 고유한 값 구하기\n",
        "\n",
        "- total : 각 컬럼의 개수\n",
        "- tt : 이를 새로운 데이터 프레임으로 제작\n",
        "- nunique : 고유한 값 뿐만 아닌 개수까지 구함"
      ],
      "metadata": {
        "id": "L8lIBqDud9mK"
      }
    },
    {
      "cell_type": "code",
      "source": [
        "def unique_values(data):\n",
        "    total = data.count()\n",
        "    tt = pd.DataFrame(total)\n",
        "    tt.columns = ['Total']\n",
        "    uniques = []\n",
        "    for col in data.columns:\n",
        "        unique = data[col].nunique()\n",
        "        uniques.append(unique)\n",
        "    tt['Uniques'] = uniques\n",
        "    return tt"
      ],
      "metadata": {
        "execution": {
          "iopub.status.busy": "2024-09-13T16:09:31.519862Z",
          "iopub.execute_input": "2024-09-13T16:09:31.520319Z",
          "iopub.status.idle": "2024-09-13T16:09:31.528493Z",
          "shell.execute_reply.started": "2024-09-13T16:09:31.520274Z",
          "shell.execute_reply": "2024-09-13T16:09:31.526967Z"
        },
        "trusted": true,
        "id": "XfxLG1gId9mK"
      },
      "execution_count": null,
      "outputs": []
    },
    {
      "cell_type": "markdown",
      "source": [
        "# 제품 정보 고유한 값 개수 확인"
      ],
      "metadata": {
        "id": "Tnord1-Nd9mK"
      }
    },
    {
      "cell_type": "code",
      "source": [
        "unique_values(articles_df)"
      ],
      "metadata": {
        "execution": {
          "iopub.status.busy": "2024-09-13T16:09:32.334271Z",
          "iopub.execute_input": "2024-09-13T16:09:32.335268Z",
          "iopub.status.idle": "2024-09-13T16:09:32.692348Z",
          "shell.execute_reply.started": "2024-09-13T16:09:32.335214Z",
          "shell.execute_reply": "2024-09-13T16:09:32.691089Z"
        },
        "trusted": true,
        "id": "3s52zOHGd9mK",
        "outputId": "cdb7d2d3-8221-4399-b11a-eb0edeec30cf"
      },
      "execution_count": null,
      "outputs": [
        {
          "execution_count": 30,
          "output_type": "execute_result",
          "data": {
            "text/plain": "                               Total  Uniques\narticle_id                    105542   105542\nproduct_code                  105542    47224\nprod_name                     105542    45875\nproduct_type_no               105542      132\nproduct_type_name             105542      131\nproduct_group_name            105542       19\ngraphical_appearance_no       105542       30\ngraphical_appearance_name     105542       30\ncolour_group_code             105542       50\ncolour_group_name             105542       50\nperceived_colour_value_id     105542        8\nperceived_colour_value_name   105542        8\nperceived_colour_master_id    105542       20\nperceived_colour_master_name  105542       20\ndepartment_no                 105542      299\ndepartment_name               105542      250\nindex_code                    105542       10\nindex_name                    105542       10\nindex_group_no                105542        5\nindex_group_name              105542        5\nsection_no                    105542       57\nsection_name                  105542       56\ngarment_group_no              105542       21\ngarment_group_name            105542       21\ndetail_desc                   105126    43404",
            "text/html": "<div>\n<style scoped>\n    .dataframe tbody tr th:only-of-type {\n        vertical-align: middle;\n    }\n\n    .dataframe tbody tr th {\n        vertical-align: top;\n    }\n\n    .dataframe thead th {\n        text-align: right;\n    }\n</style>\n<table border=\"1\" class=\"dataframe\">\n  <thead>\n    <tr style=\"text-align: right;\">\n      <th></th>\n      <th>Total</th>\n      <th>Uniques</th>\n    </tr>\n  </thead>\n  <tbody>\n    <tr>\n      <th>article_id</th>\n      <td>105542</td>\n      <td>105542</td>\n    </tr>\n    <tr>\n      <th>product_code</th>\n      <td>105542</td>\n      <td>47224</td>\n    </tr>\n    <tr>\n      <th>prod_name</th>\n      <td>105542</td>\n      <td>45875</td>\n    </tr>\n    <tr>\n      <th>product_type_no</th>\n      <td>105542</td>\n      <td>132</td>\n    </tr>\n    <tr>\n      <th>product_type_name</th>\n      <td>105542</td>\n      <td>131</td>\n    </tr>\n    <tr>\n      <th>product_group_name</th>\n      <td>105542</td>\n      <td>19</td>\n    </tr>\n    <tr>\n      <th>graphical_appearance_no</th>\n      <td>105542</td>\n      <td>30</td>\n    </tr>\n    <tr>\n      <th>graphical_appearance_name</th>\n      <td>105542</td>\n      <td>30</td>\n    </tr>\n    <tr>\n      <th>colour_group_code</th>\n      <td>105542</td>\n      <td>50</td>\n    </tr>\n    <tr>\n      <th>colour_group_name</th>\n      <td>105542</td>\n      <td>50</td>\n    </tr>\n    <tr>\n      <th>perceived_colour_value_id</th>\n      <td>105542</td>\n      <td>8</td>\n    </tr>\n    <tr>\n      <th>perceived_colour_value_name</th>\n      <td>105542</td>\n      <td>8</td>\n    </tr>\n    <tr>\n      <th>perceived_colour_master_id</th>\n      <td>105542</td>\n      <td>20</td>\n    </tr>\n    <tr>\n      <th>perceived_colour_master_name</th>\n      <td>105542</td>\n      <td>20</td>\n    </tr>\n    <tr>\n      <th>department_no</th>\n      <td>105542</td>\n      <td>299</td>\n    </tr>\n    <tr>\n      <th>department_name</th>\n      <td>105542</td>\n      <td>250</td>\n    </tr>\n    <tr>\n      <th>index_code</th>\n      <td>105542</td>\n      <td>10</td>\n    </tr>\n    <tr>\n      <th>index_name</th>\n      <td>105542</td>\n      <td>10</td>\n    </tr>\n    <tr>\n      <th>index_group_no</th>\n      <td>105542</td>\n      <td>5</td>\n    </tr>\n    <tr>\n      <th>index_group_name</th>\n      <td>105542</td>\n      <td>5</td>\n    </tr>\n    <tr>\n      <th>section_no</th>\n      <td>105542</td>\n      <td>57</td>\n    </tr>\n    <tr>\n      <th>section_name</th>\n      <td>105542</td>\n      <td>56</td>\n    </tr>\n    <tr>\n      <th>garment_group_no</th>\n      <td>105542</td>\n      <td>21</td>\n    </tr>\n    <tr>\n      <th>garment_group_name</th>\n      <td>105542</td>\n      <td>21</td>\n    </tr>\n    <tr>\n      <th>detail_desc</th>\n      <td>105126</td>\n      <td>43404</td>\n    </tr>\n  </tbody>\n</table>\n</div>"
          },
          "metadata": {}
        }
      ]
    },
    {
      "cell_type": "markdown",
      "source": [
        "## >> 번호 및 이름의 고유 개수들이 다름\n",
        "\n",
        "- 제품 고유 번호와 이름\n",
        "- 제품 세부 종류 유형 번호 및 이름\n",
        "- 브랜드 고유 번호 및 이름\n",
        "- 제품 세부 카테고리 번호 및 이름\n"
      ],
      "metadata": {
        "id": "ZHtl249cd9mK"
      }
    },
    {
      "cell_type": "code",
      "source": [
        "unique_values(customers_df)"
      ],
      "metadata": {
        "execution": {
          "iopub.status.busy": "2024-09-13T17:23:01.463244Z",
          "iopub.execute_input": "2024-09-13T17:23:01.463766Z",
          "iopub.status.idle": "2024-09-13T17:23:04.471330Z",
          "shell.execute_reply.started": "2024-09-13T17:23:01.463718Z",
          "shell.execute_reply": "2024-09-13T17:23:04.469915Z"
        },
        "trusted": true,
        "id": "EjivozeMd9mK",
        "outputId": "a55a0147-42d7-4f0e-ddf9-3f16bb068e94"
      },
      "execution_count": null,
      "outputs": [
        {
          "execution_count": 57,
          "output_type": "execute_result",
          "data": {
            "text/plain": "                          Total  Uniques\ncustomer_id             1371980  1371980\nFN                       476930        1\nActive                   464404        1\nclub_member_status      1365918        3\nfashion_news_frequency  1355969        3\nage                     1356119       84\npostal_code             1371980   352899",
            "text/html": "<div>\n<style scoped>\n    .dataframe tbody tr th:only-of-type {\n        vertical-align: middle;\n    }\n\n    .dataframe tbody tr th {\n        vertical-align: top;\n    }\n\n    .dataframe thead th {\n        text-align: right;\n    }\n</style>\n<table border=\"1\" class=\"dataframe\">\n  <thead>\n    <tr style=\"text-align: right;\">\n      <th></th>\n      <th>Total</th>\n      <th>Uniques</th>\n    </tr>\n  </thead>\n  <tbody>\n    <tr>\n      <th>customer_id</th>\n      <td>1371980</td>\n      <td>1371980</td>\n    </tr>\n    <tr>\n      <th>FN</th>\n      <td>476930</td>\n      <td>1</td>\n    </tr>\n    <tr>\n      <th>Active</th>\n      <td>464404</td>\n      <td>1</td>\n    </tr>\n    <tr>\n      <th>club_member_status</th>\n      <td>1365918</td>\n      <td>3</td>\n    </tr>\n    <tr>\n      <th>fashion_news_frequency</th>\n      <td>1355969</td>\n      <td>3</td>\n    </tr>\n    <tr>\n      <th>age</th>\n      <td>1356119</td>\n      <td>84</td>\n    </tr>\n    <tr>\n      <th>postal_code</th>\n      <td>1371980</td>\n      <td>352899</td>\n    </tr>\n  </tbody>\n</table>\n</div>"
          },
          "metadata": {}
        }
      ]
    },
    {
      "cell_type": "code",
      "source": [
        "unique_values(transactions_train_df)"
      ],
      "metadata": {
        "execution": {
          "iopub.status.busy": "2024-09-13T17:23:11.383658Z",
          "iopub.execute_input": "2024-09-13T17:23:11.384152Z",
          "iopub.status.idle": "2024-09-13T17:23:34.425881Z",
          "shell.execute_reply.started": "2024-09-13T17:23:11.384108Z",
          "shell.execute_reply": "2024-09-13T17:23:34.424629Z"
        },
        "trusted": true,
        "id": "9I0Z78QVd9mT",
        "outputId": "2e8fce79-4c95-4db7-96da-89fdd5e3c537"
      },
      "execution_count": null,
      "outputs": [
        {
          "execution_count": 58,
          "output_type": "execute_result",
          "data": {
            "text/plain": "                     Total  Uniques\nt_dat             31788324      734\ncustomer_id       31788324  1362281\narticle_id        31788324   104547\nprice             31788324     9857\nsales_channel_id  31788324        2",
            "text/html": "<div>\n<style scoped>\n    .dataframe tbody tr th:only-of-type {\n        vertical-align: middle;\n    }\n\n    .dataframe tbody tr th {\n        vertical-align: top;\n    }\n\n    .dataframe thead th {\n        text-align: right;\n    }\n</style>\n<table border=\"1\" class=\"dataframe\">\n  <thead>\n    <tr style=\"text-align: right;\">\n      <th></th>\n      <th>Total</th>\n      <th>Uniques</th>\n    </tr>\n  </thead>\n  <tbody>\n    <tr>\n      <th>t_dat</th>\n      <td>31788324</td>\n      <td>734</td>\n    </tr>\n    <tr>\n      <th>customer_id</th>\n      <td>31788324</td>\n      <td>1362281</td>\n    </tr>\n    <tr>\n      <th>article_id</th>\n      <td>31788324</td>\n      <td>104547</td>\n    </tr>\n    <tr>\n      <th>price</th>\n      <td>31788324</td>\n      <td>9857</td>\n    </tr>\n    <tr>\n      <th>sales_channel_id</th>\n      <td>31788324</td>\n      <td>2</td>\n    </tr>\n  </tbody>\n</table>\n</div>"
          },
          "metadata": {}
        }
      ]
    },
    {
      "cell_type": "markdown",
      "source": [
        "### >> 거래내역 약 3100만건의 거래 중 130만명의 고객이 거래를 진행\n",
        "### >> 그러나 다른 가격수가 10000개가 되지 않으며(같은제품) 날짜 또한 700개 가량에서 멈춤(특정한 이벤트 존재?)"
      ],
      "metadata": {
        "id": "euWHNMmJd9mU"
      }
    }
  ]
}